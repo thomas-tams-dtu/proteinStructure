{
 "cells": [
  {
   "cell_type": "code",
   "execution_count": 1,
   "metadata": {},
   "outputs": [],
   "source": [
    "import pandas as pd\n",
    "import seaborn as sns\n",
    "import matplotlib.pyplot as plt\n",
    "import matplotlib.colors as pltcolors\n",
    "import numpy as np\n",
    "\n",
    "import matplotlib.colors as mcolors\n",
    "import matplotlib.ticker as mticker\n",
    "import matplotlib.pyplot as plt\n",
    "\n",
    "from Bio import Entrez\n",
    "from Bio import ExPASy\n",
    "from Bio import SwissProt\n",
    "Entrez.email = \"user@gmail.com\""
   ]
  },
  {
   "cell_type": "markdown",
   "metadata": {},
   "source": [
    "### Get SCAN domain location"
   ]
  },
  {
   "cell_type": "code",
   "execution_count": 2,
   "metadata": {},
   "outputs": [],
   "source": [
    "def fetch_uniprot_record(uniprot_id):\n",
    "    with ExPASy.get_sprot_raw(uniprot_id) as handle:\n",
    "        return SwissProt.read(handle)\n",
    "\n",
    "def get_domain_indices(uniprot_record):\n",
    "    domain_indices = {}\n",
    "    for feature in uniprot_record.features:\n",
    "        if feature.type == 'DOMAIN':\n",
    "            domain_indices[feature.qualifiers['note']] = [feature.location.start, feature.location.end]\n",
    "    return domain_indices"
   ]
  },
  {
   "cell_type": "code",
   "execution_count": 3,
   "metadata": {},
   "outputs": [],
   "source": [
    "target_protein_uniprot = fetch_uniprot_record('P28698')\n",
    "domains = get_domain_indices(target_protein_uniprot)\n",
    "\n",
    "start_scan, end_scan = domains['SCAN box']"
   ]
  },
  {
   "cell_type": "markdown",
   "metadata": {},
   "source": [
    "### Load in datasets"
   ]
  },
  {
   "cell_type": "code",
   "execution_count": 4,
   "metadata": {},
   "outputs": [],
   "source": [
    "cmut = pd.read_csv('../data/cancermuts_MZF1.csv')\n",
    "alphamissense = pd.read_csv('../data/alphamissense/P28698/alphamissense_P28698.tsv', sep='\\t')"
   ]
  },
  {
   "cell_type": "code",
   "execution_count": 5,
   "metadata": {},
   "outputs": [],
   "source": [
    "# Select only scan domain residues from cancermuts dataset\n",
    "\n",
    "# Select subset of cmut, which contains only mutations in the SCAN box\n",
    "cmut_scan = cmut[(cmut['aa_position'] >= start_scan) & (cmut['aa_position'] <= end_scan)]\n",
    "\n",
    "# Drop all rows with missing values in alt_aa\n",
    "#cmut_scan = cmut_scan.dropna(subset=['alt_aa'])\n",
    "\n",
    "# Reset index\n",
    "cmut_scan = cmut_scan.reset_index(drop=True)\n",
    "\n",
    "# Count number of rows\n",
    "n_mutations = cmut_scan.shape[0]\n"
   ]
  },
  {
   "cell_type": "code",
   "execution_count": 6,
   "metadata": {},
   "outputs": [],
   "source": [
    "cmut_scan_muts = []\n",
    "for index, row in cmut_scan.iterrows():\n",
    "        # Get the mutation\n",
    "        ref_aa = row['ref_aa']\n",
    "        mut_pos = row['aa_position']\n",
    "        mut_aa = row['alt_aa']\n",
    "\n",
    "        #print(type(mut_aa), mut_aa)\n",
    "\n",
    "        if type(mut_aa) != float:       # Float are NaN values\n",
    "                cmut_scan_muts.append(f'{ref_aa}{mut_pos}{mut_aa}')\n"
   ]
  },
  {
   "cell_type": "markdown",
   "metadata": {},
   "source": [
    "### Load in energies for P28698 mutatex alone"
   ]
  },
  {
   "cell_type": "code",
   "execution_count": 7,
   "metadata": {},
   "outputs": [],
   "source": [
    "P28698_energies = pd.read_csv('../data/mutatex/all_energies/P28698_scand_energies.csv')"
   ]
  },
  {
   "cell_type": "markdown",
   "metadata": {},
   "source": [
    "### Load in ddgs for proteins complexes with P28698"
   ]
  },
  {
   "cell_type": "code",
   "execution_count": 8,
   "metadata": {},
   "outputs": [],
   "source": [
    "# P28698 complexes with itself has a bit different output in residue # column\n",
    "P28698_complex_energies = pd.read_csv('../data/mutatex/all_energies/P28698_P28698_scand_complex_energies.csv')\n",
    "\n",
    "# Convert Residue # to number preceeding '_' in Residue # column\n",
    "P28698_complex_energies['Residue #'] = P28698_complex_energies['Residue #'].str.extract(r'(\\d+)')\n",
    "\n",
    "# Convert dtype from string to int in Residue #\n",
    "P28698_complex_energies['Residue #'] = P28698_complex_energies['Residue #'].astype(int)"
   ]
  },
  {
   "cell_type": "code",
   "execution_count": 9,
   "metadata": {},
   "outputs": [],
   "source": [
    "# Load in other complexes\n",
    "O95125_complex_energies = pd.read_csv('../data/mutatex/all_energies/O95125_P28698_scand_complex_energies.csv')\n",
    "P17028_complex_energies = pd.read_csv('../data/mutatex/all_energies/P17028_P28698_scand_complex_energies.csv')\n",
    "P57086_complex_energies = pd.read_csv('../data/mutatex/all_energies/P57086_P28698_scand_complex_energies.csv')\n",
    "Q15697_complex_energies = pd.read_csv('../data/mutatex/all_energies/Q15697_P28698_scand_complex_energies.csv')\n",
    "Q8NBB4_complex_energies = pd.read_csv('../data/mutatex/all_energies/Q8NBB4_P28698_scand_complex_energies.csv')\n",
    "\n",
    "\n",
    "# Add start_scan to Residue # to get canonical residue number of the P28698 protein scan domain\n",
    "P28698_complex_energies['Residue #'] = P28698_complex_energies['Residue #'] + start_scan\n",
    "O95125_complex_energies['Residue #'] = O95125_complex_energies['Residue #'] + start_scan\n",
    "P17028_complex_energies['Residue #'] = P17028_complex_energies['Residue #'] + start_scan\n",
    "P57086_complex_energies['Residue #'] = P57086_complex_energies['Residue #'] + start_scan\n",
    "Q15697_complex_energies['Residue #'] = Q15697_complex_energies['Residue #'] + start_scan\n",
    "Q8NBB4_complex_energies['Residue #'] = Q8NBB4_complex_energies['Residue #'] + start_scan\n",
    "\n"
   ]
  },
  {
   "cell_type": "code",
   "execution_count": 10,
   "metadata": {},
   "outputs": [],
   "source": [
    "energies_df_dict = {'P28698': P28698_energies,\n",
    "                    'P28698_complex': P28698_complex_energies,\n",
    "                    'O95125_complex': O95125_complex_energies,\n",
    "                    'P17028_complex': P17028_complex_energies,\n",
    "                    'P57086_complex': P57086_complex_energies,\n",
    "                    'Q15697_complex': Q15697_complex_energies,\n",
    "                    'Q8NBB4_complex': Q8NBB4_complex_energies}\n",
    "\n",
    "AMINO_ACIDS = ['G', 'A', 'V', 'L', 'I', 'M', 'F', 'W', 'P', 'S', 'T', 'C', 'Y', 'N', 'Q', 'D', 'E', 'K', 'R', 'H']\n",
    "DESTABILITY_THRESHOLD = 3"
   ]
  },
  {
   "cell_type": "markdown",
   "metadata": {},
   "source": [
    "Identify stabilizing mutations for each protein"
   ]
  },
  {
   "cell_type": "code",
   "execution_count": 11,
   "metadata": {},
   "outputs": [
    {
     "name": "stderr",
     "output_type": "stream",
     "text": [
      "/tmp/ipykernel_703/2173999154.py:21: FutureWarning: The behavior of DataFrame concatenation with empty or all-NA entries is deprecated. In a future version, this will no longer exclude empty or all-NA columns when determining the result dtypes. To retain the old behavior, exclude the relevant entries before the concat operation.\n",
      "  stabilizing_df = pd.concat([stabilizing_df, stabilizing_df_current])\n",
      "/tmp/ipykernel_703/2173999154.py:21: FutureWarning: The behavior of DataFrame concatenation with empty or all-NA entries is deprecated. In a future version, this will no longer exclude empty or all-NA columns when determining the result dtypes. To retain the old behavior, exclude the relevant entries before the concat operation.\n",
      "  stabilizing_df = pd.concat([stabilizing_df, stabilizing_df_current])\n",
      "/tmp/ipykernel_703/2173999154.py:21: FutureWarning: The behavior of DataFrame concatenation with empty or all-NA entries is deprecated. In a future version, this will no longer exclude empty or all-NA columns when determining the result dtypes. To retain the old behavior, exclude the relevant entries before the concat operation.\n",
      "  stabilizing_df = pd.concat([stabilizing_df, stabilizing_df_current])\n",
      "/tmp/ipykernel_703/2173999154.py:21: FutureWarning: The behavior of DataFrame concatenation with empty or all-NA entries is deprecated. In a future version, this will no longer exclude empty or all-NA columns when determining the result dtypes. To retain the old behavior, exclude the relevant entries before the concat operation.\n",
      "  stabilizing_df = pd.concat([stabilizing_df, stabilizing_df_current])\n",
      "/tmp/ipykernel_703/2173999154.py:21: FutureWarning: The behavior of DataFrame concatenation with empty or all-NA entries is deprecated. In a future version, this will no longer exclude empty or all-NA columns when determining the result dtypes. To retain the old behavior, exclude the relevant entries before the concat operation.\n",
      "  stabilizing_df = pd.concat([stabilizing_df, stabilizing_df_current])\n",
      "/tmp/ipykernel_703/2173999154.py:21: FutureWarning: The behavior of DataFrame concatenation with empty or all-NA entries is deprecated. In a future version, this will no longer exclude empty or all-NA columns when determining the result dtypes. To retain the old behavior, exclude the relevant entries before the concat operation.\n",
      "  stabilizing_df = pd.concat([stabilizing_df, stabilizing_df_current])\n",
      "/tmp/ipykernel_703/2173999154.py:21: FutureWarning: The behavior of DataFrame concatenation with empty or all-NA entries is deprecated. In a future version, this will no longer exclude empty or all-NA columns when determining the result dtypes. To retain the old behavior, exclude the relevant entries before the concat operation.\n",
      "  stabilizing_df = pd.concat([stabilizing_df, stabilizing_df_current])\n"
     ]
    },
    {
     "data": {
      "text/plain": [
       "(8920, 800)"
      ]
     },
     "execution_count": 11,
     "metadata": {},
     "output_type": "execute_result"
    }
   ],
   "source": [
    "stabilizing_residues = {}\n",
    "muta_tested_count = 0\n",
    "destabilizing_count = 0\n",
    "for protein, energy_df in energies_df_dict.items():\n",
    "    # Make a list of all mutation outside stability threshold\n",
    "    stabilizing_df = pd.DataFrame(columns=['mutation', 'ddg'])\n",
    "    muta_tested_count += energy_df.shape[0]*20\n",
    "\n",
    "    for row in energy_df.iterrows():\n",
    "        row_data = row[1]\n",
    "        wt_aa = row_data['WT residue type']\n",
    "        \n",
    "        mutations = []\n",
    "        ddgs = []\n",
    "        for aa in AMINO_ACIDS:\n",
    "            if row_data[aa] > DESTABILITY_THRESHOLD:\n",
    "                mutations.append(f'{wt_aa}{row_data[\"Residue #\"]}{aa}')\n",
    "                ddgs.append(row_data[aa])\n",
    "\n",
    "        stabilizing_df_current = pd.DataFrame({'mutation': mutations, 'ddg': ddgs})\n",
    "        stabilizing_df = pd.concat([stabilizing_df, stabilizing_df_current])\n",
    "    \n",
    "    destabilizing_count += stabilizing_df.shape[0]\n",
    "    stabilizing_residues[protein] = stabilizing_df\n",
    "\n",
    "muta_tested_count, destabilizing_count"
   ]
  },
  {
   "cell_type": "markdown",
   "metadata": {},
   "source": [
    "Filter stabilizing mutations only present in either cmut or alphamissense"
   ]
  },
  {
   "cell_type": "code",
   "execution_count": 12,
   "metadata": {},
   "outputs": [],
   "source": [
    "num_mut_per_res_alphamissense = 19\n",
    "alphamissense_scan = alphamissense.iloc[num_mut_per_res_alphamissense*start_scan: num_mut_per_res_alphamissense*end_scan, :]\n",
    "\n",
    "\n",
    "\n",
    "alphamissense_pathogenic = alphamissense_scan[alphamissense_scan['am_class'] == 'pathogenic']"
   ]
  },
  {
   "cell_type": "code",
   "execution_count": 13,
   "metadata": {},
   "outputs": [
    {
     "data": {
      "text/plain": [
       "((1558, 4), (603, 4))"
      ]
     },
     "execution_count": 13,
     "metadata": {},
     "output_type": "execute_result"
    }
   ],
   "source": [
    "alphamissense_scan.shape, alphamissense_pathogenic.shape"
   ]
  },
  {
   "cell_type": "code",
   "execution_count": 28,
   "metadata": {},
   "outputs": [
    {
     "name": "stdout",
     "output_type": "stream",
     "text": [
      "num mutations in cancermuts 40\n"
     ]
    },
    {
     "data": {
      "text/plain": [
       "['R44C',\n",
       " 'R44H',\n",
       " 'L45M',\n",
       " 'R46C',\n",
       " 'R46H',\n",
       " 'F47S',\n",
       " 'R48Q',\n",
       " 'R48W',\n",
       " 'R51H',\n",
       " 'G57R',\n",
       " 'G57W',\n",
       " 'P58L',\n",
       " 'A63T',\n",
       " 'C69Y',\n",
       " 'R70H',\n",
       " 'R70L',\n",
       " 'Q71R',\n",
       " 'R74C',\n",
       " 'R74H',\n",
       " 'P75T',\n",
       " 'R78C',\n",
       " 'M83V',\n",
       " 'L86V',\n",
       " 'E90G',\n",
       " 'G94S',\n",
       " 'A95T',\n",
       " 'P97L',\n",
       " 'E99K',\n",
       " 'E99Q',\n",
       " 'I100N',\n",
       " 'A102T',\n",
       " 'G106W',\n",
       " 'R108L',\n",
       " 'E113G',\n",
       " 'E113K',\n",
       " 'E114K',\n",
       " 'L118P',\n",
       " 'R123C',\n",
       " 'R124L',\n",
       " 'E125K']"
      ]
     },
     "execution_count": 28,
     "metadata": {},
     "output_type": "execute_result"
    }
   ],
   "source": [
    "print('num mutations in cancermuts', len(cmut_scan_muts))\n",
    "cmut_scan_muts"
   ]
  },
  {
   "cell_type": "code",
   "execution_count": 31,
   "metadata": {},
   "outputs": [
    {
     "name": "stdout",
     "output_type": "stream",
     "text": [
      "P28698\n",
      "3 159 3\n",
      "  mutation  in_cmut\n",
      "2     G57W     True\n",
      "1    I100N     True\n",
      "1    L118P     True\n",
      "P28698_complex\n",
      "5 172 1\n",
      "  mutation  in_cmut\n",
      "2     R48Q     True\n",
      "2     P58L     True\n",
      "2     C69Y     True\n",
      "1     P75T     True\n",
      "2     M83V     True\n",
      "O95125_complex\n",
      "3 75 2\n",
      "  mutation  in_cmut\n",
      "0     P58L     True\n",
      "2     C69Y     True\n",
      "0     E90G     True\n",
      "P17028_complex\n",
      "1 65 1\n",
      "  mutation  in_cmut\n",
      "2     C69Y     True\n",
      "P57086_complex\n",
      "1 43 1\n",
      "  mutation  in_cmut\n",
      "2     C69Y     True\n",
      "Q15697_complex\n",
      "1 46 1\n",
      "  mutation  in_cmut\n",
      "2     C69Y     True\n",
      "Q8NBB4_complex\n",
      "1 53 1\n",
      "  mutation  in_cmut\n",
      "2     C69Y     True\n"
     ]
    }
   ],
   "source": [
    "\n",
    "stabilizing_residues_classes = {}\n",
    "for protein, stabilizing_df in stabilizing_residues.items():\n",
    "    # Check if mutation is in cancermuts dataset\n",
    "    stabilizing_df['in_cmut'] = stabilizing_df['mutation'].isin(cmut_scan_muts)\n",
    "    \n",
    "    # Check if mutation is pathogenic in alphamissense dataset\n",
    "    stabilizing_df['am_pathogenic'] = stabilizing_df['mutation'].isin(alphamissense_pathogenic['protein_variant'])\n",
    "\n",
    "    # If mutations are both 'in_cmut' and 'am_pathogenic' add to 'both' column\n",
    "    stabilizing_df['both_mut'] = stabilizing_df['in_cmut'] & stabilizing_df['am_pathogenic']\n",
    "\n",
    "    stabilizing_residues_classes[protein] = stabilizing_df\n",
    "    print(protein)\n",
    "    print(stabilizing_df['in_cmut'].sum(), stabilizing_df['am_pathogenic'].sum(), stabilizing_df['both_mut'].sum())\n",
    "    print(stabilizing_df[['mutation','in_cmut']][stabilizing_df['in_cmut'] == True])"
   ]
  },
  {
   "cell_type": "code",
   "execution_count": null,
   "metadata": {},
   "outputs": [],
   "source": []
  },
  {
   "cell_type": "markdown",
   "metadata": {},
   "source": [
    "Create single column identifying the class of the mutations"
   ]
  },
  {
   "cell_type": "code",
   "execution_count": 16,
   "metadata": {},
   "outputs": [
    {
     "name": "stdout",
     "output_type": "stream",
     "text": [
      "P28698\n",
      "P28698\n",
      "Alphamissense\\npathogenic                      156\n",
      "Destabilizing\\nonly                             46\n",
      "In Cancermuts and\\nAlphamissense pathogenic      3\n",
      "Name: count, dtype: int64\n",
      "P28698_complex\n",
      "P28698_complex\n",
      "Alphamissense\\npathogenic                      171\n",
      "Destabilizing\\nonly                             63\n",
      "In Cancermuts                                    4\n",
      "In Cancermuts and\\nAlphamissense pathogenic      1\n",
      "Name: count, dtype: int64\n",
      "O95125_complex\n",
      "O95125_complex\n",
      "Alphamissense\\npathogenic                      73\n",
      "Destabilizing\\nonly                            20\n",
      "In Cancermuts and\\nAlphamissense pathogenic     2\n",
      "In Cancermuts                                   1\n",
      "Name: count, dtype: int64\n",
      "P17028_complex\n",
      "P17028_complex\n",
      "Alphamissense\\npathogenic                      64\n",
      "Destabilizing\\nonly                            23\n",
      "In Cancermuts and\\nAlphamissense pathogenic     1\n",
      "Name: count, dtype: int64\n",
      "P57086_complex\n",
      "P57086_complex\n",
      "Alphamissense\\npathogenic                      42\n",
      "Destabilizing\\nonly                            11\n",
      "In Cancermuts and\\nAlphamissense pathogenic     1\n",
      "Name: count, dtype: int64\n",
      "Q15697_complex\n",
      "Q15697_complex\n",
      "Alphamissense\\npathogenic                      45\n",
      "Destabilizing\\nonly                             6\n",
      "In Cancermuts and\\nAlphamissense pathogenic     1\n",
      "Name: count, dtype: int64\n",
      "Q8NBB4_complex\n",
      "Q8NBB4_complex\n",
      "Alphamissense\\npathogenic                      52\n",
      "Destabilizing\\nonly                            13\n",
      "In Cancermuts and\\nAlphamissense pathogenic     1\n",
      "Name: count, dtype: int64\n"
     ]
    }
   ],
   "source": [
    "in_cmut_category_name = 'In Cancermuts'\n",
    "am_pathogenic_category_name = 'Alphamissense\\npathogenic'\n",
    "cmut_specific_pathogenic_category_name = 'In Cancermuts and\\nAlphamissense pathogenic'\n",
    "destabilizing_category_name = 'Destabilizing\\nonly'\n",
    "\n",
    "stabilizing_residues_protein_class = {}\n",
    "for protein, stabilizing_df in stabilizing_residues_classes.items():\n",
    "    # Add class column idenifying whether mutation is pathogenic in alphamissense dataset, in cancermuts dataset or both\n",
    "    stabilizing_df[protein] = destabilizing_category_name\n",
    "    stabilizing_df[protein] = np.where(stabilizing_df['in_cmut'] == True, in_cmut_category_name,           stabilizing_df[protein])\n",
    "    stabilizing_df[protein] = np.where(stabilizing_df['am_pathogenic'] == True, am_pathogenic_category_name,         stabilizing_df[protein])\n",
    "    stabilizing_df[protein] = np.where(stabilizing_df['both_mut'] == True, cmut_specific_pathogenic_category_name,   stabilizing_df[protein])\n",
    "    \n",
    "\n",
    "    stabilizing_residues_protein_class[protein] = stabilizing_df\n",
    "    print(protein)\n",
    "    print(stabilizing_df[protein].value_counts())"
   ]
  },
  {
   "cell_type": "code",
   "execution_count": 17,
   "metadata": {},
   "outputs": [
    {
     "name": "stdout",
     "output_type": "stream",
     "text": [
      "P28698\n",
      "['Alphamissense\\npathogenic' 'Destabilizing\\nonly'\n",
      " 'In Cancermuts and\\nAlphamissense pathogenic']\n",
      "P28698\n",
      "Alphamissense\\npathogenic                      156\n",
      "Destabilizing\\nonly                             46\n",
      "In Cancermuts and\\nAlphamissense pathogenic      3\n",
      "Name: count, dtype: int64\n",
      "P28698_complex\n",
      "['Alphamissense\\npathogenic' 'Destabilizing\\nonly' 'In Cancermuts'\n",
      " 'In Cancermuts and\\nAlphamissense pathogenic']\n",
      "P28698_complex\n",
      "Alphamissense\\npathogenic                      171\n",
      "Destabilizing\\nonly                             63\n",
      "In Cancermuts                                    4\n",
      "In Cancermuts and\\nAlphamissense pathogenic      1\n",
      "Name: count, dtype: int64\n",
      "O95125_complex\n",
      "['Destabilizing\\nonly' 'In Cancermuts' 'Alphamissense\\npathogenic'\n",
      " 'In Cancermuts and\\nAlphamissense pathogenic']\n",
      "O95125_complex\n",
      "Alphamissense\\npathogenic                      73\n",
      "Destabilizing\\nonly                            20\n",
      "In Cancermuts and\\nAlphamissense pathogenic     2\n",
      "In Cancermuts                                   1\n",
      "Name: count, dtype: int64\n",
      "P17028_complex\n",
      "['Alphamissense\\npathogenic' 'Destabilizing\\nonly'\n",
      " 'In Cancermuts and\\nAlphamissense pathogenic']\n",
      "P17028_complex\n",
      "Alphamissense\\npathogenic                      64\n",
      "Destabilizing\\nonly                            23\n",
      "In Cancermuts and\\nAlphamissense pathogenic     1\n",
      "Name: count, dtype: int64\n",
      "P57086_complex\n",
      "['Alphamissense\\npathogenic' 'In Cancermuts and\\nAlphamissense pathogenic'\n",
      " 'Destabilizing\\nonly']\n",
      "P57086_complex\n",
      "Alphamissense\\npathogenic                      42\n",
      "Destabilizing\\nonly                            11\n",
      "In Cancermuts and\\nAlphamissense pathogenic     1\n",
      "Name: count, dtype: int64\n",
      "Q15697_complex\n",
      "['Alphamissense\\npathogenic' 'Destabilizing\\nonly'\n",
      " 'In Cancermuts and\\nAlphamissense pathogenic']\n",
      "Q15697_complex\n",
      "Alphamissense\\npathogenic                      45\n",
      "Destabilizing\\nonly                             6\n",
      "In Cancermuts and\\nAlphamissense pathogenic     1\n",
      "Name: count, dtype: int64\n",
      "Q8NBB4_complex\n",
      "['Destabilizing\\nonly' 'Alphamissense\\npathogenic'\n",
      " 'In Cancermuts and\\nAlphamissense pathogenic']\n",
      "Q8NBB4_complex\n",
      "Alphamissense\\npathogenic                      52\n",
      "Destabilizing\\nonly                            13\n",
      "In Cancermuts and\\nAlphamissense pathogenic     1\n",
      "Name: count, dtype: int64\n"
     ]
    }
   ],
   "source": [
    "for protein, stabilizing_df in stabilizing_residues_protein_class.items():\n",
    "    # check unique values in protein column of stabilizing_df\n",
    "    print(protein)\n",
    "    print(stabilizing_df[protein].unique())\n",
    "\n",
    "    # Count uniques\n",
    "    print(stabilizing_df[protein].value_counts())"
   ]
  },
  {
   "cell_type": "markdown",
   "metadata": {},
   "source": [
    "Combine into one dataframe"
   ]
  },
  {
   "cell_type": "code",
   "execution_count": 18,
   "metadata": {},
   "outputs": [],
   "source": [
    "combined_stabilizing_df = pd.DataFrame()\n",
    "for protein, stabilizing_df in stabilizing_residues_protein_class.items():\n",
    "    # Full join all protein via mutation column\n",
    "    if combined_stabilizing_df.empty:\n",
    "        combined_stabilizing_df = stabilizing_df[['mutation', protein]]\n",
    "    else:\n",
    "        combined_stabilizing_df = pd.merge(combined_stabilizing_df, stabilizing_df[['mutation', protein]], on='mutation', how='outer')"
   ]
  },
  {
   "cell_type": "code",
   "execution_count": 19,
   "metadata": {},
   "outputs": [
    {
     "data": {
      "text/html": [
       "<div>\n",
       "<style scoped>\n",
       "    .dataframe tbody tr th:only-of-type {\n",
       "        vertical-align: middle;\n",
       "    }\n",
       "\n",
       "    .dataframe tbody tr th {\n",
       "        vertical-align: top;\n",
       "    }\n",
       "\n",
       "    .dataframe thead th {\n",
       "        text-align: right;\n",
       "    }\n",
       "</style>\n",
       "<table border=\"1\" class=\"dataframe\">\n",
       "  <thead>\n",
       "    <tr style=\"text-align: right;\">\n",
       "      <th></th>\n",
       "      <th>mutation</th>\n",
       "      <th>P28698</th>\n",
       "      <th>P28698_complex</th>\n",
       "      <th>O95125_complex</th>\n",
       "      <th>P17028_complex</th>\n",
       "      <th>P57086_complex</th>\n",
       "      <th>Q15697_complex</th>\n",
       "      <th>Q8NBB4_complex</th>\n",
       "    </tr>\n",
       "  </thead>\n",
       "  <tbody>\n",
       "    <tr>\n",
       "      <th>0</th>\n",
       "      <td>A115D</td>\n",
       "      <td>Alphamissense\\npathogenic</td>\n",
       "      <td>NaN</td>\n",
       "      <td>NaN</td>\n",
       "      <td>NaN</td>\n",
       "      <td>NaN</td>\n",
       "      <td>NaN</td>\n",
       "      <td>NaN</td>\n",
       "    </tr>\n",
       "    <tr>\n",
       "      <th>1</th>\n",
       "      <td>A115E</td>\n",
       "      <td>Alphamissense\\npathogenic</td>\n",
       "      <td>NaN</td>\n",
       "      <td>NaN</td>\n",
       "      <td>NaN</td>\n",
       "      <td>NaN</td>\n",
       "      <td>NaN</td>\n",
       "      <td>NaN</td>\n",
       "    </tr>\n",
       "    <tr>\n",
       "      <th>2</th>\n",
       "      <td>A115F</td>\n",
       "      <td>Alphamissense\\npathogenic</td>\n",
       "      <td>NaN</td>\n",
       "      <td>NaN</td>\n",
       "      <td>NaN</td>\n",
       "      <td>Alphamissense\\npathogenic</td>\n",
       "      <td>NaN</td>\n",
       "      <td>NaN</td>\n",
       "    </tr>\n",
       "    <tr>\n",
       "      <th>3</th>\n",
       "      <td>A115H</td>\n",
       "      <td>Alphamissense\\npathogenic</td>\n",
       "      <td>NaN</td>\n",
       "      <td>NaN</td>\n",
       "      <td>NaN</td>\n",
       "      <td>NaN</td>\n",
       "      <td>NaN</td>\n",
       "      <td>NaN</td>\n",
       "    </tr>\n",
       "    <tr>\n",
       "      <th>4</th>\n",
       "      <td>A115K</td>\n",
       "      <td>Alphamissense\\npathogenic</td>\n",
       "      <td>NaN</td>\n",
       "      <td>NaN</td>\n",
       "      <td>NaN</td>\n",
       "      <td>NaN</td>\n",
       "      <td>NaN</td>\n",
       "      <td>NaN</td>\n",
       "    </tr>\n",
       "    <tr>\n",
       "      <th>...</th>\n",
       "      <td>...</td>\n",
       "      <td>...</td>\n",
       "      <td>...</td>\n",
       "      <td>...</td>\n",
       "      <td>...</td>\n",
       "      <td>...</td>\n",
       "      <td>...</td>\n",
       "      <td>...</td>\n",
       "    </tr>\n",
       "    <tr>\n",
       "      <th>427</th>\n",
       "      <td>Y52E</td>\n",
       "      <td>NaN</td>\n",
       "      <td>Alphamissense\\npathogenic</td>\n",
       "      <td>NaN</td>\n",
       "      <td>NaN</td>\n",
       "      <td>NaN</td>\n",
       "      <td>NaN</td>\n",
       "      <td>NaN</td>\n",
       "    </tr>\n",
       "    <tr>\n",
       "      <th>428</th>\n",
       "      <td>Y52G</td>\n",
       "      <td>NaN</td>\n",
       "      <td>Alphamissense\\npathogenic</td>\n",
       "      <td>NaN</td>\n",
       "      <td>NaN</td>\n",
       "      <td>NaN</td>\n",
       "      <td>NaN</td>\n",
       "      <td>NaN</td>\n",
       "    </tr>\n",
       "    <tr>\n",
       "      <th>429</th>\n",
       "      <td>Y52P</td>\n",
       "      <td>NaN</td>\n",
       "      <td>Alphamissense\\npathogenic</td>\n",
       "      <td>NaN</td>\n",
       "      <td>NaN</td>\n",
       "      <td>NaN</td>\n",
       "      <td>NaN</td>\n",
       "      <td>NaN</td>\n",
       "    </tr>\n",
       "    <tr>\n",
       "      <th>430</th>\n",
       "      <td>Y52Q</td>\n",
       "      <td>NaN</td>\n",
       "      <td>Alphamissense\\npathogenic</td>\n",
       "      <td>NaN</td>\n",
       "      <td>NaN</td>\n",
       "      <td>NaN</td>\n",
       "      <td>NaN</td>\n",
       "      <td>NaN</td>\n",
       "    </tr>\n",
       "    <tr>\n",
       "      <th>431</th>\n",
       "      <td>Y52S</td>\n",
       "      <td>NaN</td>\n",
       "      <td>Alphamissense\\npathogenic</td>\n",
       "      <td>NaN</td>\n",
       "      <td>NaN</td>\n",
       "      <td>NaN</td>\n",
       "      <td>NaN</td>\n",
       "      <td>NaN</td>\n",
       "    </tr>\n",
       "  </tbody>\n",
       "</table>\n",
       "<p>432 rows × 8 columns</p>\n",
       "</div>"
      ],
      "text/plain": [
       "    mutation                     P28698             P28698_complex  \\\n",
       "0      A115D  Alphamissense\\npathogenic                        NaN   \n",
       "1      A115E  Alphamissense\\npathogenic                        NaN   \n",
       "2      A115F  Alphamissense\\npathogenic                        NaN   \n",
       "3      A115H  Alphamissense\\npathogenic                        NaN   \n",
       "4      A115K  Alphamissense\\npathogenic                        NaN   \n",
       "..       ...                        ...                        ...   \n",
       "427     Y52E                        NaN  Alphamissense\\npathogenic   \n",
       "428     Y52G                        NaN  Alphamissense\\npathogenic   \n",
       "429     Y52P                        NaN  Alphamissense\\npathogenic   \n",
       "430     Y52Q                        NaN  Alphamissense\\npathogenic   \n",
       "431     Y52S                        NaN  Alphamissense\\npathogenic   \n",
       "\n",
       "    O95125_complex P17028_complex             P57086_complex Q15697_complex  \\\n",
       "0              NaN            NaN                        NaN            NaN   \n",
       "1              NaN            NaN                        NaN            NaN   \n",
       "2              NaN            NaN  Alphamissense\\npathogenic            NaN   \n",
       "3              NaN            NaN                        NaN            NaN   \n",
       "4              NaN            NaN                        NaN            NaN   \n",
       "..             ...            ...                        ...            ...   \n",
       "427            NaN            NaN                        NaN            NaN   \n",
       "428            NaN            NaN                        NaN            NaN   \n",
       "429            NaN            NaN                        NaN            NaN   \n",
       "430            NaN            NaN                        NaN            NaN   \n",
       "431            NaN            NaN                        NaN            NaN   \n",
       "\n",
       "    Q8NBB4_complex  \n",
       "0              NaN  \n",
       "1              NaN  \n",
       "2              NaN  \n",
       "3              NaN  \n",
       "4              NaN  \n",
       "..             ...  \n",
       "427            NaN  \n",
       "428            NaN  \n",
       "429            NaN  \n",
       "430            NaN  \n",
       "431            NaN  \n",
       "\n",
       "[432 rows x 8 columns]"
      ]
     },
     "execution_count": 19,
     "metadata": {},
     "output_type": "execute_result"
    }
   ],
   "source": [
    "combined_stabilizing_df"
   ]
  },
  {
   "cell_type": "code",
   "execution_count": 20,
   "metadata": {},
   "outputs": [
    {
     "data": {
      "text/plain": [
       "array([432, 205, 239,  96,  88,  54,  52,  66])"
      ]
     },
     "execution_count": 20,
     "metadata": {},
     "output_type": "execute_result"
    }
   ],
   "source": [
    "# Count number of non nan values in each row in combined_stabilizing_d aka. destabilizing mutations\n",
    "count = combined_stabilizing_df.count(axis=0).values\n",
    "count"
   ]
  },
  {
   "cell_type": "markdown",
   "metadata": {},
   "source": [
    "Plot heatmap of stabilizing mutations"
   ]
  },
  {
   "cell_type": "code",
   "execution_count": 21,
   "metadata": {},
   "outputs": [
    {
     "name": "stdout",
     "output_type": "stream",
     "text": [
      "(432, 11)\n",
      "108.0\n",
      "108 216 324\n",
      "111\n",
      "109\n",
      "103\n",
      "109\n",
      "          P28698  P28698_complex  O95125_complex  P17028_complex  \\\n",
      "mutation                                                           \n",
      "G94P         1.0             4.0             4.0             4.0   \n",
      "A95L         4.0             4.0             4.0             4.0   \n",
      "A95N         4.0             0.0             4.0             4.0   \n",
      "A95R         4.0             0.0             4.0             0.0   \n",
      "A95W         4.0             0.0             0.0             0.0   \n",
      "...          ...             ...             ...             ...   \n",
      "V119G        0.0             4.0             4.0             4.0   \n",
      "D120P        4.0             1.0             4.0             4.0   \n",
      "L122P        0.0             4.0             4.0             4.0   \n",
      "L122D        1.0             4.0             4.0             4.0   \n",
      "L122G        1.0             4.0             4.0             4.0   \n",
      "\n",
      "          P57086_complex  Q15697_complex  Q8NBB4_complex  resi_n wt_resi_n  \\\n",
      "mutation                                                                     \n",
      "G94P                 4.0             4.0             4.0      94       G94   \n",
      "A95L                 4.0             4.0             0.0      95       A95   \n",
      "A95N                 4.0             4.0             4.0      95       A95   \n",
      "A95R                 4.0             4.0             4.0      95       A95   \n",
      "A95W                 0.0             4.0             0.0      95       A95   \n",
      "...                  ...             ...             ...     ...       ...   \n",
      "V119G                4.0             4.0             4.0     119      V119   \n",
      "D120P                4.0             4.0             4.0     120      D120   \n",
      "L122P                4.0             4.0             4.0     122      L122   \n",
      "L122D                4.0             4.0             4.0     122      L122   \n",
      "L122G                4.0             4.0             4.0     122      L122   \n",
      "\n",
      "         mut_aa  \n",
      "mutation         \n",
      "G94P          P  \n",
      "A95L          L  \n",
      "A95N          N  \n",
      "A95R          R  \n",
      "A95W          W  \n",
      "...         ...  \n",
      "V119G         G  \n",
      "D120P         P  \n",
      "L122P         P  \n",
      "L122D         D  \n",
      "L122G         G  \n",
      "\n",
      "[109 rows x 10 columns]\n"
     ]
    },
    {
     "name": "stderr",
     "output_type": "stream",
     "text": [
      "/tmp/ipykernel_703/27028496.py:33: FutureWarning: Downcasting behavior in `replace` is deprecated and will be removed in a future version. To retain the old behavior, explicitly call `result.infer_objects(copy=False)`. To opt-in to the future behavior, set `pd.set_option('future.no_silent_downcasting', True)`\n",
      "  combined_copy = combined_copy.replace(int_mapping)\n"
     ]
    }
   ],
   "source": [
    "proteins = list(combined_stabilizing_df.keys())\n",
    "proteins.remove('mutation')\n",
    "\n",
    "\n",
    "in_cmut_category_name\n",
    "am_pathogenic_category_name\n",
    "cmut_specific_pathogenic_category_name\n",
    "# Create a mapping from categories to letters\n",
    "int_mapping = {destabilizing_category_name: 0,\n",
    "               am_pathogenic_category_name: 1, \n",
    "               in_cmut_category_name : 2,\n",
    "               cmut_specific_pathogenic_category_name : 3,\n",
    "               np.nan: 4}\n",
    "\n",
    "# Apply int_mapping to combined_stabilizing_df\n",
    "combined_copy = combined_stabilizing_df.copy()\n",
    "\n",
    "# Extract the middle number of the mutation column\n",
    "combined_copy['mutation'].str.extract(r'\\w(\\d+)\\w')\n",
    "\n",
    "# Order mutations according to the extracted mutation numbers\n",
    "combined_copy['resi_n'] = combined_copy['mutation'].str.extract(r'\\w(\\d+)\\w')\n",
    "combined_copy['wt_resi_n'] = combined_copy['mutation'].str.extract(r'(\\w\\d+)\\w')\n",
    "combined_copy['mut_aa'] = combined_copy['mutation'].str.extract(r'\\w\\d+(\\w)')\n",
    "combined_copy['resi_n'] = combined_copy['resi_n'].astype(int)\n",
    "combined_copy = combined_copy.sort_values('resi_n')\n",
    "\n",
    "# Add column with \n",
    "\n",
    "# Reset index\n",
    "combined_copy = combined_copy.reset_index(drop=True)\n",
    "\n",
    "combined_copy = combined_copy.replace(int_mapping)\n",
    "\n",
    "# Sample 6 colors from virids colormap for cmap variable\n",
    "#cmap = plt.get_cmap('viridis', 6)\n",
    "\n",
    "# Create a colormap with discrete colors\n",
    "cmap = mcolors.ListedColormap(['blue', 'orange', 'red', 'black', 'white'])\n",
    "\n",
    "# Create a norm with boundaries between the colors\n",
    "norm = mcolors.BoundaryNorm([0, 1, 2, 3, 4, 5], cmap.N)\n",
    "\n",
    "print(combined_copy.shape)\n",
    "print(combined_copy.shape[0]/4)\n",
    "print(int(combined_copy.shape[0]/4), int(combined_copy.shape[0]/4)*2, int(combined_copy.shape[0]/4)*3)\n",
    "\n",
    "# Split the combined_copy into two dataframes, half of rows in each\n",
    "combined_copy1 = combined_copy.iloc[:int(combined_copy.shape[0]/2) + 4, :].copy()\n",
    "combined_copy2 = combined_copy.iloc[int(combined_copy.shape[0]/2) + 4:, :].copy()\n",
    "combined_copy1.set_index('mutation', inplace=True)\n",
    "combined_copy2.set_index('mutation', inplace=True)\n",
    "\n",
    "combined_copy1 = combined_copy.iloc[:108+3, :].copy()\n",
    "combined_copy2 = combined_copy.iloc[ 108+3: 216+4, :].copy()\n",
    "combined_copy3 = combined_copy.iloc[        216+4:323, :].copy()\n",
    "combined_copy4 = combined_copy.iloc[              323: , :].copy()\n",
    "combined_copy1.set_index('mutation', inplace=True)\n",
    "combined_copy2.set_index('mutation', inplace=True)\n",
    "combined_copy3.set_index('mutation', inplace=True)\n",
    "combined_copy4.set_index('mutation', inplace=True)\n",
    "\n",
    "\n",
    "print(combined_copy1.shape[0])\n",
    "print(combined_copy2.shape[0])\n",
    "print(combined_copy3.shape[0])\n",
    "print(combined_copy4.shape[0])\n",
    "print(combined_copy4)"
   ]
  },
  {
   "cell_type": "code",
   "execution_count": 22,
   "metadata": {},
   "outputs": [
    {
     "name": "stderr",
     "output_type": "stream",
     "text": [
      "/tmp/ipykernel_703/4137969409.py:35: FutureWarning: Series.__getitem__ treating keys as positions is deprecated. In a future version, integer keys will always be treated as labels (consistent with DataFrame behavior). To access a value by position, use `ser.iloc[pos]`\n",
      "  ax.text(-0.1, i+0.5, combined_copy_['mut_aa'][i], ha='center', va='center')\n",
      "/tmp/ipykernel_703/4137969409.py:38: FutureWarning: Series.__getitem__ treating keys as positions is deprecated. In a future version, integer keys will always be treated as labels (consistent with DataFrame behavior). To access a value by position, use `ser.iloc[pos]`\n",
      "  if i > 0 and wt_resi_n != combined_copy_['wt_resi_n'][i-1]:\n",
      "/tmp/ipykernel_703/4137969409.py:35: FutureWarning: Series.__getitem__ treating keys as positions is deprecated. In a future version, integer keys will always be treated as labels (consistent with DataFrame behavior). To access a value by position, use `ser.iloc[pos]`\n",
      "  ax.text(-0.1, i+0.5, combined_copy_['mut_aa'][i], ha='center', va='center')\n",
      "/tmp/ipykernel_703/4137969409.py:38: FutureWarning: Series.__getitem__ treating keys as positions is deprecated. In a future version, integer keys will always be treated as labels (consistent with DataFrame behavior). To access a value by position, use `ser.iloc[pos]`\n",
      "  if i > 0 and wt_resi_n != combined_copy_['wt_resi_n'][i-1]:\n",
      "/tmp/ipykernel_703/4137969409.py:35: FutureWarning: Series.__getitem__ treating keys as positions is deprecated. In a future version, integer keys will always be treated as labels (consistent with DataFrame behavior). To access a value by position, use `ser.iloc[pos]`\n",
      "  ax.text(-0.1, i+0.5, combined_copy_['mut_aa'][i], ha='center', va='center')\n",
      "/tmp/ipykernel_703/4137969409.py:38: FutureWarning: Series.__getitem__ treating keys as positions is deprecated. In a future version, integer keys will always be treated as labels (consistent with DataFrame behavior). To access a value by position, use `ser.iloc[pos]`\n",
      "  if i > 0 and wt_resi_n != combined_copy_['wt_resi_n'][i-1]:\n",
      "/tmp/ipykernel_703/4137969409.py:35: FutureWarning: Series.__getitem__ treating keys as positions is deprecated. In a future version, integer keys will always be treated as labels (consistent with DataFrame behavior). To access a value by position, use `ser.iloc[pos]`\n",
      "  ax.text(-0.1, i+0.5, combined_copy_['mut_aa'][i], ha='center', va='center')\n",
      "/tmp/ipykernel_703/4137969409.py:38: FutureWarning: Series.__getitem__ treating keys as positions is deprecated. In a future version, integer keys will always be treated as labels (consistent with DataFrame behavior). To access a value by position, use `ser.iloc[pos]`\n",
      "  if i > 0 and wt_resi_n != combined_copy_['wt_resi_n'][i-1]:\n"
     ]
    },
    {
     "name": "stdout",
     "output_type": "stream",
     "text": [
      "<matplotlib.collections.QuadMesh object at 0x7fcc721f26c0>\n"
     ]
    },
    {
     "data": {
      "image/png": "[encoded data removed]",
      "text/plain": [
       "<Figure size 1500x2000 with 4 Axes>"
      ]
     },
     "metadata": {},
     "output_type": "display_data"
    }
   ],
   "source": [
    "# Create subplot of two horizontal plots\n",
    "fig, axs = plt.subplots(1, 4, figsize=(15, 20))\n",
    "axs = axs.ravel()\n",
    "\n",
    "sns.set(font_scale=0.5)\n",
    "sns.set_style(\"whitegrid\")\n",
    "\n",
    " \n",
    "for j, combined_copy_ in enumerate([combined_copy1, combined_copy2, combined_copy3, combined_copy4]):\n",
    "    if j == 0:\n",
    "        ax = axs[0]\n",
    "    elif j == 1:\n",
    "        ax = axs[1]\n",
    "    elif j == 2:\n",
    "        ax = axs[2]\n",
    "    elif j == 3:\n",
    "        ax = axs[3]\n",
    "    \n",
    "    sns.heatmap(combined_copy_[proteins], cmap=cmap, norm=norm, cbar=False, ax=ax, yticklabels=False)\n",
    "    ax.tick_params(axis='x', labelsize=10)  # Set the text size to 15\n",
    "\n",
    "\n",
    "\n",
    "    # Plot y-axis labels as horizontal bars describing the common 'resi_n' for each unique number in resi_n\n",
    "    ax.text(-0.2, -0.4, 'Mut', ha='center', va='center', fontweight='bold')\n",
    "    ax.text(-0.7, -0.4, 'WT', ha='center', va='center', fontweight='bold')\n",
    "\n",
    "\n",
    "    wt_resi_n_plotted = []\n",
    "    for i, wt_resi_n in enumerate(combined_copy_['wt_resi_n']):\n",
    "        if wt_resi_n not in wt_resi_n_plotted:\n",
    "            ax.text(-0.7, i+0.5, wt_resi_n, ha='center', va='center')\n",
    "            wt_resi_n_plotted.append(wt_resi_n)\n",
    "        \n",
    "        ax.text(-0.1, i+0.5, combined_copy_['mut_aa'][i], ha='center', va='center')\n",
    "\n",
    "        # Plot a bar at the end of each unique resi_n\n",
    "        if i > 0 and wt_resi_n != combined_copy_['wt_resi_n'][i-1]:\n",
    "            ax.axhline(i, color='black', linewidth=0.5)\n",
    "        \n",
    "\n",
    "plt.ylabel('')  # Remove the y-axis label\n",
    "\n",
    "\n",
    "\"\"\"# Create a separate colorbar\n",
    "cbar = plt.colorbar(ax.collections[0],\n",
    "                    ax=axs[-1], label='Category',\n",
    "                    ticks=[0.5, 1.5, 2.5, 3.5, 4.5],\n",
    "                    shrink =0.3,\n",
    "                    format=mticker.FuncFormatter(lambda val, loc: list(int_mapping.keys())[int(val)]))\n",
    "cbar.set_label('Category', rotation=270, labelpad=15, size=15)\n",
    "\n",
    "cbar.ax.tick_params(labelsize=10)  # Set the text size to 10\"\"\"\n",
    "\n",
    "\n",
    "plt.yticks(rotation=0)\n",
    "plt.tight_layout()\n",
    "plt.subplots_adjust(wspace=0.25)\n",
    "fig.savefig(f'../results/heatmaps_all.png', dpi=500)\n",
    "print(ax.collections[0])"
   ]
  },
  {
   "cell_type": "code",
   "execution_count": 23,
   "metadata": {},
   "outputs": [
    {
     "name": "stderr",
     "output_type": "stream",
     "text": [
      "/tmp/ipykernel_703/122248232.py:34: FutureWarning: Series.__getitem__ treating keys as positions is deprecated. In a future version, integer keys will always be treated as labels (consistent with DataFrame behavior). To access a value by position, use `ser.iloc[pos]`\n",
      "  ax.text(-0.1, i+0.5, combined_copy_['mut_aa'][i], ha='center', va='center')\n",
      "/tmp/ipykernel_703/122248232.py:37: FutureWarning: Series.__getitem__ treating keys as positions is deprecated. In a future version, integer keys will always be treated as labels (consistent with DataFrame behavior). To access a value by position, use `ser.iloc[pos]`\n",
      "  if i > 0 and wt_resi_n != combined_copy_['wt_resi_n'][i-1]:\n",
      "/tmp/ipykernel_703/122248232.py:34: FutureWarning: Series.__getitem__ treating keys as positions is deprecated. In a future version, integer keys will always be treated as labels (consistent with DataFrame behavior). To access a value by position, use `ser.iloc[pos]`\n",
      "  ax.text(-0.1, i+0.5, combined_copy_['mut_aa'][i], ha='center', va='center')\n",
      "/tmp/ipykernel_703/122248232.py:37: FutureWarning: Series.__getitem__ treating keys as positions is deprecated. In a future version, integer keys will always be treated as labels (consistent with DataFrame behavior). To access a value by position, use `ser.iloc[pos]`\n",
      "  if i > 0 and wt_resi_n != combined_copy_['wt_resi_n'][i-1]:\n"
     ]
    },
    {
     "name": "stdout",
     "output_type": "stream",
     "text": [
      "<matplotlib.collections.QuadMesh object at 0x7fcc71f2e270>\n"
     ]
    },
    {
     "data": {
      "image/png": "[encoded data removed]",
      "text/plain": [
       "<Figure size 1500x2000 with 5 Axes>"
      ]
     },
     "metadata": {},
     "output_type": "display_data"
    }
   ],
   "source": [
    "# Create subplot of two horizontal plots\n",
    "fig, axs = plt.subplots(1, 4, figsize=(15, 20))\n",
    "axs = axs.ravel()\n",
    "\n",
    "sns.set(font_scale=0.5)\n",
    "sns.set_style(\"whitegrid\")\n",
    "\n",
    " \n",
    "for j, combined_copy_ in enumerate([combined_copy3, combined_copy4]):\n",
    "    if j == 0:\n",
    "        ax = axs[0]\n",
    "    elif j == 1:\n",
    "        ax = axs[1]\n",
    "    elif j == 2:\n",
    "        ax = axs[2]\n",
    "    elif j == 3:\n",
    "        ax = axs[3]\n",
    "    \n",
    "    sns.heatmap(combined_copy_[proteins], cmap=cmap, norm=norm, cbar=False, ax=ax, yticklabels=False)\n",
    "\n",
    "\n",
    "\n",
    "    # Plot y-axis labels as horizontal bars describing the common 'resi_n' for each unique number in resi_n\n",
    "    ax.text(-0.2, -0.4, 'Mut', ha='center', va='center', fontweight='bold')\n",
    "    ax.text(-1, -0.4, 'WT', ha='center', va='center', fontweight='bold')\n",
    "\n",
    "\n",
    "    wt_resi_n_plotted = []\n",
    "    for i, wt_resi_n in enumerate(combined_copy_['wt_resi_n']):\n",
    "        if wt_resi_n not in wt_resi_n_plotted:\n",
    "            ax.text(-1, i+0.5, wt_resi_n, ha='center', va='center')\n",
    "            wt_resi_n_plotted.append(wt_resi_n)\n",
    "\n",
    "        ax.text(-0.1, i+0.5, combined_copy_['mut_aa'][i], ha='center', va='center')\n",
    "\n",
    "        # Plot a bar at the end of each unique resi_n\n",
    "        if i > 0 and wt_resi_n != combined_copy_['wt_resi_n'][i-1]:\n",
    "            ax.axhline(i, color='black', linewidth=0.5)\n",
    "        \n",
    "\n",
    "plt.ylabel('')  # Remove the y-axis label\n",
    "\n",
    "\n",
    "# Create a separate colorbar\n",
    "cbar = plt.colorbar(ax.collections[0],\n",
    "                    ax=axs[-1], label='Category',\n",
    "                    ticks=[0.5, 1.5, 2.5, 3.5, 4.5],\n",
    "                    shrink =0.3,\n",
    "                    format=mticker.FuncFormatter(lambda val, loc: list(int_mapping.keys())[int(val)]))\n",
    "cbar.set_label('Category', rotation=270, labelpad=15)\n",
    "\n",
    "\n",
    "\n",
    "plt.yticks(rotation=0)\n",
    "plt.tight_layout()\n",
    "fig.savefig(f'../results/01_heatmaps.png', dpi=500)\n",
    "print(ax.collections[0])"
   ]
  },
  {
   "cell_type": "code",
   "execution_count": 24,
   "metadata": {},
   "outputs": [
    {
     "name": "stdout",
     "output_type": "stream",
     "text": [
      "32\n",
      "18 32 51\n"
     ]
    }
   ],
   "source": [
    "# Grab all unique r'(w\\d+)' in cmut_scan_mut\n",
    "import re\n",
    "wt_resi_n = []\n",
    "for mut in cmut_scan_muts:\n",
    "    wt_resi_n.append(re.search(r'(\\w\\d+)', mut).group(0))\n",
    "\n",
    "# Get unique\n",
    "wt_resi_n = list(set(wt_resi_n))\n",
    "print(len(wt_resi_n))\n",
    "\n",
    "# Check how many unique wt_resi_n are in combined_copy\n",
    "unique_wt_resi_n = list(set(combined_copy['wt_resi_n']))\n",
    "\n",
    "# Count how many unique wt_resi_n are in unique_wt_resi_n\n",
    "count = 0\n",
    "for wt in wt_resi_n:\n",
    "    if wt in unique_wt_resi_n:\n",
    "        count += 1\n",
    "\n",
    "print(count, len(wt_resi_n), len(unique_wt_resi_n))"
   ]
  },
  {
   "cell_type": "code",
   "execution_count": 25,
   "metadata": {},
   "outputs": [
    {
     "data": {
      "text/plain": [
       "5"
      ]
     },
     "execution_count": 25,
     "metadata": {},
     "output_type": "execute_result"
    }
   ],
   "source": [
    "# Count number of times 2.0 appears in combined_copy\n",
    "count = 0\n",
    "list_of_prot = ['P28698',\n",
    "                'P28698_complex',\t\n",
    "                'O95125_complex',\t\n",
    "                'P17028_complex',\t\n",
    "                'P57086_complex',\t\n",
    "                'Q15697_complex',\t\n",
    "                'Q8NBB4_complex']\n",
    "for row in combined_copy[list_of_prot].iterrows():\n",
    "    for entry in list(row)[1]:\n",
    "        if entry == 2.0:\n",
    "            count += 1\n",
    "\n",
    "\n",
    "count"
   ]
  },
  {
   "cell_type": "code",
   "execution_count": 26,
   "metadata": {},
   "outputs": [
    {
     "data": {
      "text/html": [
       "<div>\n",
       "<style scoped>\n",
       "    .dataframe tbody tr th:only-of-type {\n",
       "        vertical-align: middle;\n",
       "    }\n",
       "\n",
       "    .dataframe tbody tr th {\n",
       "        vertical-align: top;\n",
       "    }\n",
       "\n",
       "    .dataframe thead th {\n",
       "        text-align: right;\n",
       "    }\n",
       "</style>\n",
       "<table border=\"1\" class=\"dataframe\">\n",
       "  <thead>\n",
       "    <tr style=\"text-align: right;\">\n",
       "      <th></th>\n",
       "      <th>mutation</th>\n",
       "      <th>P28698</th>\n",
       "      <th>P28698_complex</th>\n",
       "      <th>O95125_complex</th>\n",
       "      <th>P17028_complex</th>\n",
       "      <th>P57086_complex</th>\n",
       "      <th>Q15697_complex</th>\n",
       "      <th>Q8NBB4_complex</th>\n",
       "      <th>resi_n</th>\n",
       "      <th>wt_resi_n</th>\n",
       "      <th>mut_aa</th>\n",
       "    </tr>\n",
       "  </thead>\n",
       "  <tbody>\n",
       "    <tr>\n",
       "      <th>0</th>\n",
       "      <td>F47D</td>\n",
       "      <td>1.0</td>\n",
       "      <td>4.0</td>\n",
       "      <td>4.0</td>\n",
       "      <td>4.0</td>\n",
       "      <td>4.0</td>\n",
       "      <td>4.0</td>\n",
       "      <td>4.0</td>\n",
       "      <td>47</td>\n",
       "      <td>F47</td>\n",
       "      <td>D</td>\n",
       "    </tr>\n",
       "    <tr>\n",
       "      <th>1</th>\n",
       "      <td>F47G</td>\n",
       "      <td>1.0</td>\n",
       "      <td>4.0</td>\n",
       "      <td>4.0</td>\n",
       "      <td>4.0</td>\n",
       "      <td>4.0</td>\n",
       "      <td>4.0</td>\n",
       "      <td>4.0</td>\n",
       "      <td>47</td>\n",
       "      <td>F47</td>\n",
       "      <td>G</td>\n",
       "    </tr>\n",
       "    <tr>\n",
       "      <th>2</th>\n",
       "      <td>F47K</td>\n",
       "      <td>4.0</td>\n",
       "      <td>1.0</td>\n",
       "      <td>4.0</td>\n",
       "      <td>4.0</td>\n",
       "      <td>4.0</td>\n",
       "      <td>4.0</td>\n",
       "      <td>4.0</td>\n",
       "      <td>47</td>\n",
       "      <td>F47</td>\n",
       "      <td>K</td>\n",
       "    </tr>\n",
       "    <tr>\n",
       "      <th>3</th>\n",
       "      <td>F47Q</td>\n",
       "      <td>4.0</td>\n",
       "      <td>1.0</td>\n",
       "      <td>4.0</td>\n",
       "      <td>4.0</td>\n",
       "      <td>4.0</td>\n",
       "      <td>4.0</td>\n",
       "      <td>4.0</td>\n",
       "      <td>47</td>\n",
       "      <td>F47</td>\n",
       "      <td>Q</td>\n",
       "    </tr>\n",
       "    <tr>\n",
       "      <th>4</th>\n",
       "      <td>F47R</td>\n",
       "      <td>4.0</td>\n",
       "      <td>1.0</td>\n",
       "      <td>4.0</td>\n",
       "      <td>1.0</td>\n",
       "      <td>4.0</td>\n",
       "      <td>4.0</td>\n",
       "      <td>4.0</td>\n",
       "      <td>47</td>\n",
       "      <td>F47</td>\n",
       "      <td>R</td>\n",
       "    </tr>\n",
       "    <tr>\n",
       "      <th>...</th>\n",
       "      <td>...</td>\n",
       "      <td>...</td>\n",
       "      <td>...</td>\n",
       "      <td>...</td>\n",
       "      <td>...</td>\n",
       "      <td>...</td>\n",
       "      <td>...</td>\n",
       "      <td>...</td>\n",
       "      <td>...</td>\n",
       "      <td>...</td>\n",
       "      <td>...</td>\n",
       "    </tr>\n",
       "    <tr>\n",
       "      <th>427</th>\n",
       "      <td>V119G</td>\n",
       "      <td>0.0</td>\n",
       "      <td>4.0</td>\n",
       "      <td>4.0</td>\n",
       "      <td>4.0</td>\n",
       "      <td>4.0</td>\n",
       "      <td>4.0</td>\n",
       "      <td>4.0</td>\n",
       "      <td>119</td>\n",
       "      <td>V119</td>\n",
       "      <td>G</td>\n",
       "    </tr>\n",
       "    <tr>\n",
       "      <th>428</th>\n",
       "      <td>D120P</td>\n",
       "      <td>4.0</td>\n",
       "      <td>1.0</td>\n",
       "      <td>4.0</td>\n",
       "      <td>4.0</td>\n",
       "      <td>4.0</td>\n",
       "      <td>4.0</td>\n",
       "      <td>4.0</td>\n",
       "      <td>120</td>\n",
       "      <td>D120</td>\n",
       "      <td>P</td>\n",
       "    </tr>\n",
       "    <tr>\n",
       "      <th>429</th>\n",
       "      <td>L122P</td>\n",
       "      <td>0.0</td>\n",
       "      <td>4.0</td>\n",
       "      <td>4.0</td>\n",
       "      <td>4.0</td>\n",
       "      <td>4.0</td>\n",
       "      <td>4.0</td>\n",
       "      <td>4.0</td>\n",
       "      <td>122</td>\n",
       "      <td>L122</td>\n",
       "      <td>P</td>\n",
       "    </tr>\n",
       "    <tr>\n",
       "      <th>430</th>\n",
       "      <td>L122D</td>\n",
       "      <td>1.0</td>\n",
       "      <td>4.0</td>\n",
       "      <td>4.0</td>\n",
       "      <td>4.0</td>\n",
       "      <td>4.0</td>\n",
       "      <td>4.0</td>\n",
       "      <td>4.0</td>\n",
       "      <td>122</td>\n",
       "      <td>L122</td>\n",
       "      <td>D</td>\n",
       "    </tr>\n",
       "    <tr>\n",
       "      <th>431</th>\n",
       "      <td>L122G</td>\n",
       "      <td>1.0</td>\n",
       "      <td>4.0</td>\n",
       "      <td>4.0</td>\n",
       "      <td>4.0</td>\n",
       "      <td>4.0</td>\n",
       "      <td>4.0</td>\n",
       "      <td>4.0</td>\n",
       "      <td>122</td>\n",
       "      <td>L122</td>\n",
       "      <td>G</td>\n",
       "    </tr>\n",
       "  </tbody>\n",
       "</table>\n",
       "<p>432 rows × 11 columns</p>\n",
       "</div>"
      ],
      "text/plain": [
       "    mutation  P28698  P28698_complex  O95125_complex  P17028_complex  \\\n",
       "0       F47D     1.0             4.0             4.0             4.0   \n",
       "1       F47G     1.0             4.0             4.0             4.0   \n",
       "2       F47K     4.0             1.0             4.0             4.0   \n",
       "3       F47Q     4.0             1.0             4.0             4.0   \n",
       "4       F47R     4.0             1.0             4.0             1.0   \n",
       "..       ...     ...             ...             ...             ...   \n",
       "427    V119G     0.0             4.0             4.0             4.0   \n",
       "428    D120P     4.0             1.0             4.0             4.0   \n",
       "429    L122P     0.0             4.0             4.0             4.0   \n",
       "430    L122D     1.0             4.0             4.0             4.0   \n",
       "431    L122G     1.0             4.0             4.0             4.0   \n",
       "\n",
       "     P57086_complex  Q15697_complex  Q8NBB4_complex  resi_n wt_resi_n mut_aa  \n",
       "0               4.0             4.0             4.0      47       F47      D  \n",
       "1               4.0             4.0             4.0      47       F47      G  \n",
       "2               4.0             4.0             4.0      47       F47      K  \n",
       "3               4.0             4.0             4.0      47       F47      Q  \n",
       "4               4.0             4.0             4.0      47       F47      R  \n",
       "..              ...             ...             ...     ...       ...    ...  \n",
       "427             4.0             4.0             4.0     119      V119      G  \n",
       "428             4.0             4.0             4.0     120      D120      P  \n",
       "429             4.0             4.0             4.0     122      L122      P  \n",
       "430             4.0             4.0             4.0     122      L122      D  \n",
       "431             4.0             4.0             4.0     122      L122      G  \n",
       "\n",
       "[432 rows x 11 columns]"
      ]
     },
     "execution_count": 26,
     "metadata": {},
     "output_type": "execute_result"
    }
   ],
   "source": [
    "combined_copy"
   ]
  },
  {
   "cell_type": "markdown",
   "metadata": {},
   "source": [
    "### Create a collection dataframe of mutations present in cmut and their ddgs in all the dataframe in energies_df_dict"
   ]
  },
  {
   "cell_type": "code",
   "execution_count": 27,
   "metadata": {},
   "outputs": [
    {
     "ename": "TypeError",
     "evalue": "can only concatenate str (not \"float\") to str",
     "output_type": "error",
     "traceback": [
      "\u001b[0;31m---------------------------------------------------------------------------\u001b[0m",
      "\u001b[0;31mTypeError\u001b[0m                                 Traceback (most recent call last)",
      "Cell \u001b[0;32mIn[27], line 6\u001b[0m\n\u001b[1;32m      3\u001b[0m \u001b[38;5;66;03m# Get a list of mutation in cmut\u001b[39;00m\n\u001b[1;32m      4\u001b[0m \u001b[38;5;28;01mfor\u001b[39;00m index, row \u001b[38;5;129;01min\u001b[39;00m cmut_scan\u001b[38;5;241m.\u001b[39miterrows():\n\u001b[1;32m      5\u001b[0m     \u001b[38;5;66;03m# Get the mutation\u001b[39;00m\n\u001b[0;32m----> 6\u001b[0m     mutation \u001b[38;5;241m=\u001b[39m \u001b[43mrow\u001b[49m\u001b[43m[\u001b[49m\u001b[38;5;124;43m'\u001b[39;49m\u001b[38;5;124;43mref_aa\u001b[39;49m\u001b[38;5;124;43m'\u001b[39;49m\u001b[43m]\u001b[49m\u001b[43m \u001b[49m\u001b[38;5;241;43m+\u001b[39;49m\u001b[43m \u001b[49m\u001b[38;5;28;43mstr\u001b[39;49m\u001b[43m(\u001b[49m\u001b[43mrow\u001b[49m\u001b[43m[\u001b[49m\u001b[38;5;124;43m'\u001b[39;49m\u001b[38;5;124;43maa_position\u001b[39;49m\u001b[38;5;124;43m'\u001b[39;49m\u001b[43m]\u001b[49m\u001b[43m)\u001b[49m\u001b[43m \u001b[49m\u001b[38;5;241;43m+\u001b[39;49m\u001b[43m \u001b[49m\u001b[43mrow\u001b[49m\u001b[43m[\u001b[49m\u001b[38;5;124;43m'\u001b[39;49m\u001b[38;5;124;43malt_aa\u001b[39;49m\u001b[38;5;124;43m'\u001b[39;49m\u001b[43m]\u001b[49m\n\u001b[1;32m      7\u001b[0m     cmut_mutations\u001b[38;5;241m.\u001b[39mappend(mutation)\n\u001b[1;32m      9\u001b[0m \u001b[38;5;66;03m# Create dataframe for the mutations\u001b[39;00m\n",
      "\u001b[0;31mTypeError\u001b[0m: can only concatenate str (not \"float\") to str"
     ]
    }
   ],
   "source": [
    "cmut_mutations = []\n",
    "\n",
    "# Get a list of mutation in cmut\n",
    "for index, row in cmut_scan.iterrows():\n",
    "    # Get the mutation\n",
    "    mutation = row['ref_aa'] + str(row['aa_position']) + row['alt_aa']\n",
    "    cmut_mutations.append(mutation)\n",
    "\n",
    "# Create dataframe for the mutations\n",
    "cmut_ddgs_df = pd.DataFrame(cmut_mutations, columns=['Mutation'])\n",
    "\n",
    "# Left join alphamissense into cmut_ddgs_df\n",
    "cmut_ddgs_df = cmut_ddgs_df.merge(alphamissense, how='left', left_on='Mutation', right_on='protein_variant')\n",
    "cmut_ddgs_df = cmut_ddgs_df.drop(columns=['protein_variant', 'uniprot_id'])\n",
    "\n",
    "# Loop over each protein structure and add ddgs for each mutation\n",
    "for protein, energies_df in energies_df_dict.items():\n",
    "    ddgs_protein = []\n",
    "    for index, row in cmut_scan.iterrows():\n",
    "        # Get the mutation\n",
    "        ref_aa = row['ref_aa']\n",
    "        mut_pos = row['aa_position']\n",
    "        mut_aa = row['alt_aa']\n",
    "\n",
    "        # Check if cmut mutation position is in the energies_df\n",
    "        if mut_pos in energies_df['Residue #'].values:\n",
    "            ddg_row = energies_df[energies_df['Residue #'] == mut_pos]\n",
    "            \n",
    "            # Get the ddg\n",
    "            ddgs = float(ddg_row[mut_aa].values[0])\n",
    "        else:\n",
    "            ddgs = None\n",
    "        \n",
    "        ddgs_protein.append(ddgs)\n",
    "        \n",
    "    cmut_ddgs_df[protein] = ddgs_protein\n",
    "\n",
    "# Set Mutation columns as indices\n",
    "cmut_ddgs_df = cmut_ddgs_df.set_index('Mutation')\n",
    "cmut_ddgs_df"
   ]
  },
  {
   "cell_type": "markdown",
   "metadata": {},
   "source": [
    "### Heatmapping cancermut"
   ]
  },
  {
   "cell_type": "code",
   "execution_count": null,
   "metadata": {},
   "outputs": [
    {
     "ename": "NameError",
     "evalue": "name 'STABILITY_THRESHOLD' is not defined",
     "output_type": "error",
     "traceback": [
      "\u001b[0;31m---------------------------------------------------------------------------\u001b[0m",
      "\u001b[0;31mNameError\u001b[0m                                 Traceback (most recent call last)",
      "Cell \u001b[0;32mIn[23], line 28\u001b[0m\n\u001b[1;32m     22\u001b[0m \u001b[38;5;66;03m#\u001b[39;00m\n\u001b[1;32m     23\u001b[0m \u001b[38;5;66;03m#colors = [\"purple\", \"blue\", \"white\", \"yellow\", \"red\"]\u001b[39;00m\n\u001b[1;32m     24\u001b[0m \u001b[38;5;66;03m#bounds = np.array([-np.inf, -5, -2, 2, 5, np.inf])\u001b[39;00m\n\u001b[1;32m     25\u001b[0m \n\u001b[1;32m     26\u001b[0m \u001b[38;5;66;03m# Define custom color mapping\u001b[39;00m\n\u001b[1;32m     27\u001b[0m colors \u001b[38;5;241m=\u001b[39m sns\u001b[38;5;241m.\u001b[39mcolor_palette([\u001b[38;5;124m\"\u001b[39m\u001b[38;5;124mpurple\u001b[39m\u001b[38;5;124m\"\u001b[39m, \u001b[38;5;124m\"\u001b[39m\u001b[38;5;124mblue\u001b[39m\u001b[38;5;124m\"\u001b[39m, \u001b[38;5;124m\"\u001b[39m\u001b[38;5;124mwhite\u001b[39m\u001b[38;5;124m\"\u001b[39m, \u001b[38;5;124m\"\u001b[39m\u001b[38;5;124mwhite\u001b[39m\u001b[38;5;124m\"\u001b[39m, \u001b[38;5;124m\"\u001b[39m\u001b[38;5;124myellow\u001b[39m\u001b[38;5;124m\"\u001b[39m, \u001b[38;5;124m\"\u001b[39m\u001b[38;5;124mred\u001b[39m\u001b[38;5;124m\"\u001b[39m])\n\u001b[0;32m---> 28\u001b[0m thresholds \u001b[38;5;241m=\u001b[39m [\u001b[38;5;241m-\u001b[39mnp\u001b[38;5;241m.\u001b[39minf, \u001b[38;5;241m-\u001b[39m\u001b[43mSTABILITY_THRESHOLD\u001b[49m, \u001b[38;5;241m0\u001b[39m, STABILITY_THRESHOLD, STABILITY_THRESHOLD\u001b[38;5;241m*\u001b[39m\u001b[38;5;241m2\u001b[39m, np\u001b[38;5;241m.\u001b[39minf]\n\u001b[1;32m     30\u001b[0m ax1 \u001b[38;5;241m=\u001b[39m sns\u001b[38;5;241m.\u001b[39mheatmap(cmut_ddgs_df[proteins], cmap\u001b[38;5;241m=\u001b[39mcolors, center\u001b[38;5;241m=\u001b[39m\u001b[38;5;241m0\u001b[39m, cbar\u001b[38;5;241m=\u001b[39m\u001b[38;5;28;01mFalse\u001b[39;00m, vmin\u001b[38;5;241m=\u001b[39m\u001b[38;5;241m-\u001b[39m\u001b[38;5;241m9\u001b[39m, vmax\u001b[38;5;241m=\u001b[39m\u001b[38;5;241m9\u001b[39m)\n\u001b[1;32m     32\u001b[0m \u001b[38;5;66;03m# Create a new axis for the colorbar at the bottom of the figure\u001b[39;00m\n",
      "\u001b[0;31mNameError\u001b[0m: name 'STABILITY_THRESHOLD' is not defined"
     ]
    },
    {
     "data": {
      "text/plain": [
       "<Figure size 1000x1700 with 0 Axes>"
      ]
     },
     "metadata": {},
     "output_type": "display_data"
    }
   ],
   "source": [
    "# Get protein from cmut_ddgs_df\n",
    "proteins = cmut_ddgs_df.columns[2:].values\n",
    "\n",
    "# Create a mapping from categories to letters\n",
    "mapping = {'benign': 'B', 'ambiguous': 'A', 'pathogenic': 'P'}\n",
    "\n",
    "# Create a reverse mapping from letters to integer values\n",
    "def reverse_map(x):\n",
    "    reverse_map_dict = {'A': 0,\n",
    "                        'B': 1,\n",
    "                        'P': 2}\n",
    "    for key, value in reverse_map_dict.items():\n",
    "        if x == key:\n",
    "            return value\n",
    "\n",
    "\n",
    "# Apply the mapping to the 'pathogenicity_class' column\n",
    "cmut_ddgs_df['am_class'] = cmut_ddgs_df['am_class'].map(mapping)\n",
    "\n",
    "plt.figure(figsize=(10, 17))\n",
    "\n",
    "#\n",
    "#colors = [\"purple\", \"blue\", \"white\", \"yellow\", \"red\"]\n",
    "#bounds = np.array([-np.inf, -5, -2, 2, 5, np.inf])\n",
    "\n",
    "# Define custom color mapping\n",
    "colors = sns.color_palette([\"purple\", \"blue\", \"white\", \"white\", \"yellow\", \"red\"])\n",
    "thresholds = [-np.inf, -STABILITY_THRESHOLD, 0, STABILITY_THRESHOLD, STABILITY_THRESHOLD*2, np.inf]\n",
    "\n",
    "ax1 = sns.heatmap(cmut_ddgs_df[proteins], cmap=colors, center=0, cbar=False, vmin=-9, vmax=9)\n",
    "\n",
    "# Create a new axis for the colorbar at the bottom of the figure\n",
    "cbar_ax = plt.gcf().add_axes([0, 0.1, 0.02, 0.2])\n",
    "\n",
    "# Create the colorbar\n",
    "cbar = plt.colorbar(ax1.collections[0], cax=cbar_ax, orientation='vertical')\n",
    "\n",
    "# Set the label for the colorbar\n",
    "cbar.set_label(r'$\\Delta$$\\Delta$G', rotation=270, labelpad=-40)\n",
    "\n",
    "# Create a new axis for the second heatmap\n",
    "ax2 = plt.gcf().add_axes([.91, ax1.get_position().y0, .03, ax1.get_position().height])\n",
    "\n",
    "# Create the second heatmap for the 'pathogenicity_class' column\n",
    "sns.heatmap(cmut_ddgs_df['am_class'].apply(lambda x: reverse_map(x)).to_frame(), annot=cmut_ddgs_df[['am_class']], fmt='', cbar=False, yticklabels=False, ax=ax2)\n",
    "\n",
    "# Remove y-axis label for the second heatmap\n",
    "ax2.set_ylabel('')\n",
    "\n",
    "plt.savefig('../results/ddgs_heatmap.png', dpi=300, bbox_inches='tight')"
   ]
  },
  {
   "cell_type": "code",
   "execution_count": null,
   "metadata": {},
   "outputs": [
    {
     "data": {
      "text/plain": [
       "3"
      ]
     },
     "execution_count": 662,
     "metadata": {},
     "output_type": "execute_result"
    }
   ],
   "source": [
    "# Check amount of mutations above 2 ddgs in P28698_complex\n",
    "P28698_complex_ddgs = cmut_ddgs_df['O95125_complex']\n",
    "P28698_complex_ddgs_above_2 = P28698_complex_ddgs[P28698_complex_ddgs > STABILITY_THRESHOLD]\n",
    "n_mutations_above_2 = P28698_complex_ddgs_above_2.shape[0]\n",
    "n_mutations_above_2"
   ]
  },
  {
   "cell_type": "markdown",
   "metadata": {},
   "source": [
    "# Distribution with or without cmut"
   ]
  },
  {
   "cell_type": "markdown",
   "metadata": {},
   "source": [
    "#### Calculating the probability of being a stabilizing/destabilizing mutation in P28698"
   ]
  },
  {
   "cell_type": "code",
   "execution_count": null,
   "metadata": {},
   "outputs": [
    {
     "data": {
      "text/plain": [
       "(0.125, 0.0)"
      ]
     },
     "execution_count": 663,
     "metadata": {},
     "output_type": "execute_result"
    }
   ],
   "source": [
    "# Get all amino acids that are stabilizing in the P28698 protein\n",
    "mutation_columns = P28698_energies.columns[3:].values\n",
    "\n",
    "# Each row, sum number of stabilizing mutations in mutation_columns\n",
    "P28698_energies['n_stabilizing'] = P28698_energies[mutation_columns].apply(lambda x: x[x > STABILITY_THRESHOLD].count(), axis=1)\n",
    "P28698_energies['n_destabilizing'] = P28698_energies[mutation_columns].apply(lambda x: x[x < -STABILITY_THRESHOLD].count(), axis=1)\n",
    "\n",
    "# Divide by the amount of mutations\n",
    "n_mutations = P28698_energies.shape[0] * 20\n",
    "\n",
    "# Sum n_stabilizing and divide by n_mutations\n",
    "stabilization_rate = P28698_energies['n_stabilizing'].sum() / n_mutations\n",
    "destabilization_rate = P28698_energies['n_destabilizing'].sum() / n_mutations\n",
    "stabilization_rate, destabilization_rate\n"
   ]
  },
  {
   "cell_type": "markdown",
   "metadata": {},
   "source": []
  },
  {
   "cell_type": "code",
   "execution_count": null,
   "metadata": {},
   "outputs": [
    {
     "data": {
      "text/plain": [
       "0.075"
      ]
     },
     "execution_count": 664,
     "metadata": {},
     "output_type": "execute_result"
    }
   ],
   "source": [
    "n_mutations_cmut = cmut_ddgs_df.shape[0]\n",
    "n_stabilizing_cmut = (cmut_ddgs_df['P28698'] > STABILITY_THRESHOLD).sum()\n",
    "n_stabilizing_cmut / n_mutations_cmut"
   ]
  },
  {
   "cell_type": "markdown",
   "metadata": {},
   "source": [
    "#### Calculating the probability of being a stabilizing mutation in complexes"
   ]
  },
  {
   "cell_type": "code",
   "execution_count": null,
   "metadata": {},
   "outputs": [
    {
     "name": "stdout",
     "output_type": "stream",
     "text": [
      "P28698 0.136 0.075 0.0769\n",
      "P28698_complex 0.1959 0.1724 0.3027\n",
      "O95125_complex 0.0774 0.1 0.5867\n",
      "P17028_complex 0.071 0.0345 0.1183\n",
      "P57086_complex 0.0443 0.0385 0.3082\n",
      "Q15697_complex 0.0456 0.0435 0.3417\n",
      "Q8NBB4_complex 0.0541 0.0357 0.2107\n"
     ]
    },
    {
     "name": "stderr",
     "output_type": "stream",
     "text": [
      "/tmp/ipykernel_699/4291535197.py:36: FutureWarning: The behavior of DataFrame concatenation with empty or all-NA entries is deprecated. In a future version, this will no longer exclude empty or all-NA columns when determining the result dtypes. To retain the old behavior, exclude the relevant entries before the concat operation.\n",
      "  probability_df = pd.concat([probability_df, current_df], axis=0)\n"
     ]
    },
    {
     "data": {
      "text/html": [
       "<div>\n",
       "<style scoped>\n",
       "    .dataframe tbody tr th:only-of-type {\n",
       "        vertical-align: middle;\n",
       "    }\n",
       "\n",
       "    .dataframe tbody tr th {\n",
       "        vertical-align: top;\n",
       "    }\n",
       "\n",
       "    .dataframe thead th {\n",
       "        text-align: right;\n",
       "    }\n",
       "</style>\n",
       "<table border=\"1\" class=\"dataframe\">\n",
       "  <thead>\n",
       "    <tr style=\"text-align: right;\">\n",
       "      <th></th>\n",
       "      <th>protein</th>\n",
       "      <th>all_mutations_stabilization_rate</th>\n",
       "      <th>cmut_stabilization_rate</th>\n",
       "      <th>p_of_drawing_n_stabilizing_cmut_based_on_all_mutations_stabilization_rate</th>\n",
       "    </tr>\n",
       "  </thead>\n",
       "  <tbody>\n",
       "    <tr>\n",
       "      <th>0</th>\n",
       "      <td>P28698</td>\n",
       "      <td>0.135976</td>\n",
       "      <td>0.075000</td>\n",
       "      <td>0.076937</td>\n",
       "    </tr>\n",
       "    <tr>\n",
       "      <th>0</th>\n",
       "      <td>P28698_complex</td>\n",
       "      <td>0.195902</td>\n",
       "      <td>0.172414</td>\n",
       "      <td>0.302708</td>\n",
       "    </tr>\n",
       "    <tr>\n",
       "      <th>0</th>\n",
       "      <td>O95125_complex</td>\n",
       "      <td>0.077419</td>\n",
       "      <td>0.100000</td>\n",
       "      <td>0.586682</td>\n",
       "    </tr>\n",
       "    <tr>\n",
       "      <th>0</th>\n",
       "      <td>P17028_complex</td>\n",
       "      <td>0.070968</td>\n",
       "      <td>0.034483</td>\n",
       "      <td>0.118275</td>\n",
       "    </tr>\n",
       "    <tr>\n",
       "      <th>0</th>\n",
       "      <td>P57086_complex</td>\n",
       "      <td>0.044262</td>\n",
       "      <td>0.038462</td>\n",
       "      <td>0.308182</td>\n",
       "    </tr>\n",
       "    <tr>\n",
       "      <th>0</th>\n",
       "      <td>Q15697_complex</td>\n",
       "      <td>0.045614</td>\n",
       "      <td>0.043478</td>\n",
       "      <td>0.341706</td>\n",
       "    </tr>\n",
       "    <tr>\n",
       "      <th>0</th>\n",
       "      <td>Q8NBB4_complex</td>\n",
       "      <td>0.054098</td>\n",
       "      <td>0.035714</td>\n",
       "      <td>0.210711</td>\n",
       "    </tr>\n",
       "  </tbody>\n",
       "</table>\n",
       "</div>"
      ],
      "text/plain": [
       "          protein  all_mutations_stabilization_rate  cmut_stabilization_rate  \\\n",
       "0          P28698                          0.135976                 0.075000   \n",
       "0  P28698_complex                          0.195902                 0.172414   \n",
       "0  O95125_complex                          0.077419                 0.100000   \n",
       "0  P17028_complex                          0.070968                 0.034483   \n",
       "0  P57086_complex                          0.044262                 0.038462   \n",
       "0  Q15697_complex                          0.045614                 0.043478   \n",
       "0  Q8NBB4_complex                          0.054098                 0.035714   \n",
       "\n",
       "   p_of_drawing_n_stabilizing_cmut_based_on_all_mutations_stabilization_rate  \n",
       "0                                           0.076937                          \n",
       "0                                           0.302708                          \n",
       "0                                           0.586682                          \n",
       "0                                           0.118275                          \n",
       "0                                           0.308182                          \n",
       "0                                           0.341706                          \n",
       "0                                           0.210711                          "
      ]
     },
     "execution_count": 665,
     "metadata": {},
     "output_type": "execute_result"
    }
   ],
   "source": [
    "from scipy.stats import binom\n",
    "\n",
    "probability_df_columns = ['protein', 'all_mutations_stabilization_rate', 'cmut_stabilization_rate', 'p_of_drawing_n_stabilizing_cmut_based_on_all_mutations_stabilization_rate']\n",
    "probability_df = pd.DataFrame(columns=probability_df_columns)\n",
    "\n",
    "for protein, energies_df in energies_df_dict.items():\n",
    "    mutation_columns = energies_df.columns[3:].values\n",
    "    energies_df['n_stabilizing'] = energies_df[mutation_columns].apply(lambda x: x[x > STABILITY_THRESHOLD].count(), axis=1)\n",
    "    energies_df['n_destabilizing'] = energies_df[mutation_columns].apply(lambda x: x[x < -STABILITY_THRESHOLD].count(), axis=1)\n",
    "    \n",
    "    n_mutations = energies_df.shape[0] * 20\n",
    "    n_stabilizing_all_mutations = energies_df['n_stabilizing'].sum()\n",
    "    n_destabilizing_all_mutations = energies_df['n_destabilizing'].sum()\n",
    "\n",
    "    stabilization_rate_all_mutations = n_stabilizing_all_mutations / n_mutations\n",
    "    destabilization_rate_all_mutations = n_destabilizing_all_mutations / n_mutations\n",
    "\n",
    "    # Get only mutations from cmut, which are also calculated in the energies_df\n",
    "    # This means all mutations for the single protein, while only mutations at positions which are interface proteins for the complexes\n",
    "    cmut_ddgs_df_cur = cmut_ddgs_df.copy()\n",
    "    cmut_ddgs_df_cur.dropna(subset=[protein], inplace=True)\n",
    "    n_mutations_cmut = cmut_ddgs_df_cur.shape[0]\n",
    "    n_stabilizing_cmut = (cmut_ddgs_df_cur[protein] > STABILITY_THRESHOLD).sum()\n",
    "    cmut_stabilization_rate =n_stabilizing_cmut / n_mutations_cmut\n",
    "\n",
    "    # Calculate the probability of drawing at least n_stabilizing_cmut with a probability of stabilization_rate\n",
    "    # aka. the probability of drawing the amount of stabilizing mutations we see in the cmut dataset, based on the probability of stabilizing mutations in the P28698 protein complex\n",
    "    p = stabilization_rate_all_mutations\n",
    "    n = n_mutations_cmut\n",
    "    k = n_stabilizing_cmut\n",
    "    p_of_drawing_n_stabilizing_cmut = 1 - (1- binom.cdf(k - 1, n, p))\n",
    "\n",
    "    # Create dataframe of protein, stabilization_rate, cmut_stabilization_rate, p_of_drawing_n_stabilizing_cmut\n",
    "    current_df = pd.DataFrame([[protein, stabilization_rate_all_mutations, cmut_stabilization_rate, p_of_drawing_n_stabilizing_cmut]], columns=probability_df_columns)\n",
    "\n",
    "    probability_df = pd.concat([probability_df, current_df], axis=0)\n",
    "\n",
    "    print(protein, round(stabilization_rate_all_mutations,4), round(cmut_stabilization_rate,4), round(p_of_drawing_n_stabilizing_cmut,4))\n",
    "\n",
    "probability_df"
   ]
  },
  {
   "cell_type": "code",
   "execution_count": null,
   "metadata": {},
   "outputs": [],
   "source": []
  },
  {
   "cell_type": "code",
   "execution_count": null,
   "metadata": {},
   "outputs": [
    {
     "data": {
      "image/png": "[encoded data removed]",
      "text/plain": [
       "<Figure size 1000x1700 with 2 Axes>"
      ]
     },
     "metadata": {},
     "output_type": "display_data"
    }
   ],
   "source": [
    "# Define amino acid columns\n",
    "amino_acids = ['G', 'A', 'V', 'L', 'I', 'M', 'F', 'W', 'P', 'S', 'T', 'C', 'Y', 'N', 'Q', 'D', 'E', 'K', 'R', 'H']\n",
    "\n",
    "for protein, energies_df in energies_df_dict.items():\n",
    "    # Create a heatmap of the energies_df amino_acids columns\n",
    "    plt.figure(figsize=(10, 17))\n",
    "    ax = sns.heatmap(energies_df[amino_acids], cmap='coolwarm', center=0, cbar=True, vmin=-3, vmax=3)\n",
    "\n",
    "    # Set y-axis labels as 'Residue #' column values\n",
    "    ax.set_yticklabels(energies_df['Residue #'])\n",
    "\n",
    "    # Add title\n",
    "    plt.title(f'{protein} stability')\n",
    "\n",
    "\n",
    "    plt.savefig(f'../results/{protein}_ddgs_heatmap.png', dpi=300, bbox_inches='tight')\n",
    "    break\n"
   ]
  },
  {
   "cell_type": "code",
   "execution_count": null,
   "metadata": {},
   "outputs": [
    {
     "ename": "IndentationError",
     "evalue": "unexpected indent (2391567216.py, line 25)",
     "output_type": "error",
     "traceback": [
      "\u001b[0;36m  Cell \u001b[0;32mIn[667], line 25\u001b[0;36m\u001b[0m\n\u001b[0;31m    nearest_row_values = nearest_row[3:-2].values\u001b[0m\n\u001b[0m    ^\u001b[0m\n\u001b[0;31mIndentationError\u001b[0m\u001b[0;31m:\u001b[0m unexpected indent\n"
     ]
    }
   ],
   "source": [
    "from scipy.stats import ttest_ind\n",
    "\n",
    "for protein, energies_df in energies_df_dict.items():\n",
    "    # Perform t-test for row against nearest 10 rows\n",
    "    # Create a list for storing p-values\n",
    "    p_values = []\n",
    "\n",
    "    # Loop over each row in the energies_df\n",
    "    for index, row in energies_df.iterrows():\n",
    "        # Get the row number\n",
    "        row_number = index\n",
    "\n",
    "        # Get the row values\n",
    "        row_values = row[3:-2].values\n",
    "\n",
    "\n",
    "        # Get the nearest 10 rows\n",
    "        nearest_rows = energies_df.iloc[max(row_number-5, 0):min(row_number+5, energies_df.shape[0])]\n",
    "\n",
    "        print(nearest_rows.shape)\n",
    "\n",
    "        # Loop over each nearest row\n",
    "        for nearest_index, nearest_row in nearest_rows.iterrows():h\n",
    "            # Get the nearest row values\n",
    "            nearest_row_values = nearest_row[3:-2].values\n",
    "\n",
    "            # Perform t-test\n",
    "            t_statistic, p_value = ttest_ind(row_values, nearest_row_values, equal_var=False)\n",
    "\n",
    "            # Append p-value to list\n",
    "            p_values.append(p_value)\n",
    "\n",
    "    "
   ]
  }
 ],
 "metadata": {
  "kernelspec": {
   "display_name": "bio",
   "language": "python",
   "name": "python3"
  },
  "language_info": {
   "codemirror_mode": {
    "name": "ipython",
    "version": 3
   },
   "file_extension": ".py",
   "mimetype": "text/x-python",
   "name": "python",
   "nbconvert_exporter": "python",
   "pygments_lexer": "ipython3",
   "version": "3.12.2"
  }
 },
 "nbformat": 4,
 "nbformat_minor": 2
}
