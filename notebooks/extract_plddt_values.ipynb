{
 "cells": [
  {
   "cell_type": "code",
   "execution_count": 15,
   "metadata": {},
   "outputs": [],
   "source": [
    "from Bio.PDB import PDBParser\n"
   ]
  },
  {
   "cell_type": "code",
   "execution_count": 25,
   "metadata": {},
   "outputs": [
    {
     "data": {
      "text/plain": [
       "{'P28698_scand.pdb': 95.77382222222222}"
      ]
     },
     "execution_count": 25,
     "metadata": {},
     "output_type": "execute_result"
    }
   ],
   "source": [
    "complex_pdb_path = \"../data/scan_complex_pdbs/\"\n",
    "complex_pdb_path = \"../data/target_protein_scan_pdb/\"\n",
    "\n",
    "# Get list of all complex pdb files in complex_pdb_path\n",
    "import os\n",
    "complex_pdb_files = os.listdir(complex_pdb_path)\n",
    "complex_pdb_files = [f for f in complex_pdb_files if f.endswith(\".pdb\")]\n",
    "\n",
    "# Read pLDDT values from all complex pdb files\n",
    "pLDDT_values = {}\n",
    "for complex_pdb_file in complex_pdb_files:\n",
    "    parser = PDBParser()\n",
    "    structure = parser.get_structure(\"complex\", complex_pdb_path + complex_pdb_file)\n",
    "    for model in structure:\n",
    "        for chain in model:\n",
    "            for residue in chain:\n",
    "                for atom in residue:\n",
    "                    if complex_pdb_file not in pLDDT_values:\n",
    "                        pLDDT_values[complex_pdb_file] = []\n",
    "                    pLDDT_values[complex_pdb_file].append(atom.get_bfactor())\n",
    "\n",
    "\n",
    "# Take average of pLDDT values for each complex\n",
    "average_pLDDT_values = {}\n",
    "for complex_pdb_file in complex_pdb_files:\n",
    "    average_pLDDT_values[complex_pdb_file] = sum(pLDDT_values[complex_pdb_file]) / len(pLDDT_values[complex_pdb_file])\n",
    "\n",
    "average_pLDDT_values\n"
   ]
  }
 ],
 "metadata": {
  "kernelspec": {
   "display_name": "bio",
   "language": "python",
   "name": "python3"
  },
  "language_info": {
   "codemirror_mode": {
    "name": "ipython",
    "version": 3
   },
   "file_extension": ".py",
   "mimetype": "text/x-python",
   "name": "python",
   "nbconvert_exporter": "python",
   "pygments_lexer": "ipython3",
   "version": "3.12.2"
  }
 },
 "nbformat": 4,
 "nbformat_minor": 2
}
