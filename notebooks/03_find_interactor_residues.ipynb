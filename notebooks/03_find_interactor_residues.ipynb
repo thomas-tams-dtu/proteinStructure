{
 "cells": [
  {
   "cell_type": "code",
   "execution_count": 1,
   "metadata": {},
   "outputs": [],
   "source": [
    "import pymol\n",
    "from pymol import cmd, stored\n",
    "import numpy as np\n",
    "\n",
    "# Start PyMOL in window\n",
    "#pymol.finish_launching()"
   ]
  },
  {
   "cell_type": "code",
   "execution_count": 2,
   "metadata": {},
   "outputs": [
    {
     "data": {
      "text/plain": [
       "<function __main__.interfaceResidues(cmpx, cA='c. A', cB='c. B', cutoff=1.0, selName='interface')>"
      ]
     },
     "execution_count": 2,
     "metadata": {},
     "output_type": "execute_result"
    }
   ],
   "source": [
    "def interfaceResidues(cmpx, cA='c. A', cB='c. B', cutoff=1.0, selName=\"interface\"):\n",
    "\t\"\"\"\n",
    "\tinterfaceResidues -- finds 'interface' residues between two chains in a complex.\n",
    "\t\n",
    "\tPARAMS\n",
    "\t\tcmpx\n",
    "\t\t\tThe complex containing cA and cB\n",
    "\t\t\n",
    "\t\tcA\n",
    "\t\t\tThe first chain in which we search for residues at an interface\n",
    "\t\t\twith cB\n",
    "\t\t\n",
    "\t\tcB\n",
    "\t\t\tThe second chain in which we search for residues at an interface\n",
    "\t\t\twith cA\n",
    "\t\t\n",
    "\t\tcutoff\n",
    "\t\t\tThe difference in area OVER which residues are considered\n",
    "\t\t\tinterface residues.  Residues whose dASA from the complex to\n",
    "\t\t\ta single chain is greater than this cutoff are kept.  Zero\n",
    "\t\t\tkeeps all residues.\n",
    "\t\t\t\n",
    "\t\tselName\n",
    "\t\t\tThe name of the selection to return.\n",
    "\t\t\t\n",
    "\tRETURNS\n",
    "\t\t* A selection of interface residues is created and named\n",
    "\t\t\tdepending on what you passed into selName\n",
    "\t\t* An array of values is returned where each value is:\n",
    "\t\t\t( modelName, residueNumber, dASA )\n",
    "\t\t\t\n",
    "\tNOTES\n",
    "\t\tIf you have two chains that are not from the same PDB that you want\n",
    "\t\tto complex together, use the create command like:\n",
    "\t\t\tcreate myComplex, pdb1WithChainA or pdb2withChainX\n",
    "\t\tthen pass myComplex to this script like:\n",
    "\t\t\tinterfaceResidues myComlpex, c. A, c. X\n",
    "\t\t\t\n",
    "\t\tThis script calculates the area of the complex as a whole.  Then,\n",
    "\t\tit separates the two chains that you pass in through the arguments\n",
    "\t\tcA and cB, alone.  Once it has this, it calculates the difference\n",
    "\t\tand any residues ABOVE the cutoff are called interface residues.\n",
    "\t\t\t\n",
    "\tAUTHOR:\n",
    "\t\tJason Vertrees, 2009.\t\t\n",
    "\t\"\"\"\n",
    "\t# Save user's settings, before setting dot_solvent\n",
    "\toldDS = cmd.get(\"dot_solvent\")\n",
    "\tcmd.set(\"dot_solvent\", 1)\n",
    "\t\n",
    "\t# set some string names for temporary objects/selections\n",
    "\ttempC, selName1 = \"tempComplex\", selName+\"1\"\n",
    "\tchA, chB = \"chA\", \"chB\"\n",
    "\t\n",
    "\t# operate on a new object & turn off the original\n",
    "\tcmd.create(tempC, cmpx)\n",
    "\tcmd.disable(cmpx)\n",
    "\t\n",
    "\t# remove cruft and inrrelevant chains\n",
    "\tcmd.remove(tempC + \" and not (polymer and (%s or %s))\" % (cA, cB))\n",
    "\t\n",
    "\t# get the area of the complete complex\n",
    "\tcmd.get_area(tempC, load_b=1)\n",
    "\t# copy the areas from the loaded b to the q, field.\n",
    "\tcmd.alter(tempC, 'q=b')\n",
    "\t\n",
    "\t# extract the two chains and calc. the new area\n",
    "\t# note: the q fields are copied to the new objects\n",
    "\t# chA and chB\n",
    "\tcmd.extract(chA, tempC + \" and (\" + cA + \")\")\n",
    "\tcmd.extract(chB, tempC + \" and (\" + cB + \")\")\n",
    "\tcmd.get_area(chA, load_b=1)\n",
    "\tcmd.get_area(chB, load_b=1)\n",
    "\t\n",
    "\t# update the chain-only objects w/the difference\n",
    "\tcmd.alter( \"%s or %s\" % (chA,chB), \"b=b-q\" )\n",
    "\t\n",
    "\t# The calculations are done.  Now, all we need to\n",
    "\t# do is to determine which residues are over the cutoff\n",
    "\t# and save them.\n",
    "\tstored.r, rVal, seen = [], [], []\n",
    "\tcmd.iterate('%s or %s' % (chA, chB), 'stored.r.append((model,resi,b))')\n",
    "\n",
    "\tcmd.enable(cmpx)\n",
    "\tcmd.select(selName1, 'none')\n",
    "\tfor (model,resi,diff) in stored.r:\n",
    "\t\tkey=resi+\"-\"+model\n",
    "\t\tif abs(diff)>=float(cutoff):\n",
    "\t\t\tif key in seen: continue\n",
    "\t\t\telse: seen.append(key)\n",
    "\t\t\trVal.append( (model,resi,diff) )\n",
    "\t\t\t# expand the selection here; I chose to iterate over stored.r instead of\n",
    "\t\t\t# creating one large selection b/c if there are too many residues PyMOL\n",
    "\t\t\t# might crash on a very large selection.  This is pretty much guaranteed\n",
    "\t\t\t# not to kill PyMOL; but, it might take a little longer to run.\n",
    "\t\t\tcmd.select( selName1, selName1 + \" or (%s and i. %s)\" % (model,resi))\n",
    "\n",
    "\t# this is how you transfer a selection to another object.\n",
    "\tcmd.select(selName, cmpx + \" in \" + selName1)\n",
    "\t# clean up after ourselves\n",
    "\tcmd.delete(selName1)\n",
    "\tcmd.delete(chA)\n",
    "\tcmd.delete(chB)\n",
    "\tcmd.delete(tempC)\n",
    "\t# show the selection\n",
    "\tcmd.enable(selName)\n",
    "\t\n",
    "\t# reset users settings\n",
    "\tcmd.set(\"dot_solvent\", oldDS)\n",
    "\t\n",
    "\treturn rVal\n",
    "\n",
    "cmd.extend(\"interfaceResidues\", interfaceResidues)"
   ]
  },
  {
   "cell_type": "code",
   "execution_count": 3,
   "metadata": {},
   "outputs": [],
   "source": [
    "complex_ = \"P17028_P28698_scand_complex\""
   ]
  },
  {
   "cell_type": "code",
   "execution_count": 4,
   "metadata": {},
   "outputs": [
    {
     "data": {
      "text/plain": [
       "1"
      ]
     },
     "execution_count": 4,
     "metadata": {},
     "output_type": "execute_result"
    }
   ],
   "source": [
    "cmd.load(f'../data/scan_complex_pdbs/{complex_}.pdb')"
   ]
  },
  {
   "cell_type": "code",
   "execution_count": 5,
   "metadata": {},
   "outputs": [],
   "source": [
    "interactor_residues = interfaceResidues(complex_, \"chain A\", \"chain B\", 1.0, \"interface_residues\")"
   ]
  },
  {
   "cell_type": "code",
   "execution_count": 6,
   "metadata": {},
   "outputs": [],
   "source": [
    "# Extract residues number of interactor residues for target protein\n",
    "selected_numbers = [t[1] for t in interactor_residues if t[0] == 'chA']\n",
    "\n",
    "# Set interface residues of target protein to be in canonical numbering\n",
    "domain_start_residue = 43   # Start of scan domain in target protein P28698\n",
    "selected_numbers = np.array(selected_numbers, dtype=int) + domain_start_residue - 1    # -1 because python is 0-indexed"
   ]
  },
  {
   "cell_type": "code",
   "execution_count": 8,
   "metadata": {},
   "outputs": [],
   "source": [
    "# Save the interface residues to a file\n",
    "with open(f'../data/interaction_residues/{complex_}_interface_residues.txt', 'w') as f:\n",
    "    for item in selected_numbers:\n",
    "        f.write(\"%s\\n\" % item)"
   ]
  }
 ],
 "metadata": {
  "kernelspec": {
   "display_name": "bio",
   "language": "python",
   "name": "python3"
  },
  "language_info": {
   "codemirror_mode": {
    "name": "ipython",
    "version": 3
   },
   "file_extension": ".py",
   "mimetype": "text/x-python",
   "name": "python",
   "nbconvert_exporter": "python",
   "pygments_lexer": "ipython3",
   "version": "3.12.2"
  }
 },
 "nbformat": 4,
 "nbformat_minor": 2
}
