{
 "cells": [
  {
   "cell_type": "code",
   "execution_count": 15,
   "metadata": {},
   "outputs": [],
   "source": [
    "import pymol\n",
    "from pymol import cmd, stored\n",
    "import numpy as np\n",
    "\n",
    "# Start PyMOL\n",
    "pymol.finish_launching()"
   ]
  },
  {
   "cell_type": "code",
   "execution_count": 2,
   "metadata": {},
   "outputs": [
    {
     "data": {
      "text/plain": [
       "<function __main__.interfaceResidues(cmpx, cA='c. A', cB='c. B', cutoff=1.0, selName='interface')>"
      ]
     },
     "execution_count": 2,
     "metadata": {},
     "output_type": "execute_result"
    }
   ],
   "source": [
    "def interfaceResidues(cmpx, cA='c. A', cB='c. B', cutoff=1.0, selName=\"interface\"):\n",
    "\t\"\"\"\n",
    "\tinterfaceResidues -- finds 'interface' residues between two chains in a complex.\n",
    "\t\n",
    "\tPARAMS\n",
    "\t\tcmpx\n",
    "\t\t\tThe complex containing cA and cB\n",
    "\t\t\n",
    "\t\tcA\n",
    "\t\t\tThe first chain in which we search for residues at an interface\n",
    "\t\t\twith cB\n",
    "\t\t\n",
    "\t\tcB\n",
    "\t\t\tThe second chain in which we search for residues at an interface\n",
    "\t\t\twith cA\n",
    "\t\t\n",
    "\t\tcutoff\n",
    "\t\t\tThe difference in area OVER which residues are considered\n",
    "\t\t\tinterface residues.  Residues whose dASA from the complex to\n",
    "\t\t\ta single chain is greater than this cutoff are kept.  Zero\n",
    "\t\t\tkeeps all residues.\n",
    "\t\t\t\n",
    "\t\tselName\n",
    "\t\t\tThe name of the selection to return.\n",
    "\t\t\t\n",
    "\tRETURNS\n",
    "\t\t* A selection of interface residues is created and named\n",
    "\t\t\tdepending on what you passed into selName\n",
    "\t\t* An array of values is returned where each value is:\n",
    "\t\t\t( modelName, residueNumber, dASA )\n",
    "\t\t\t\n",
    "\tNOTES\n",
    "\t\tIf you have two chains that are not from the same PDB that you want\n",
    "\t\tto complex together, use the create command like:\n",
    "\t\t\tcreate myComplex, pdb1WithChainA or pdb2withChainX\n",
    "\t\tthen pass myComplex to this script like:\n",
    "\t\t\tinterfaceResidues myComlpex, c. A, c. X\n",
    "\t\t\t\n",
    "\t\tThis script calculates the area of the complex as a whole.  Then,\n",
    "\t\tit separates the two chains that you pass in through the arguments\n",
    "\t\tcA and cB, alone.  Once it has this, it calculates the difference\n",
    "\t\tand any residues ABOVE the cutoff are called interface residues.\n",
    "\t\t\t\n",
    "\tAUTHOR:\n",
    "\t\tJason Vertrees, 2009.\t\t\n",
    "\t\"\"\"\n",
    "\t# Save user's settings, before setting dot_solvent\n",
    "\toldDS = cmd.get(\"dot_solvent\")\n",
    "\tcmd.set(\"dot_solvent\", 1)\n",
    "\t\n",
    "\t# set some string names for temporary objects/selections\n",
    "\ttempC, selName1 = \"tempComplex\", selName+\"1\"\n",
    "\tchA, chB = \"chA\", \"chB\"\n",
    "\t\n",
    "\t# operate on a new object & turn off the original\n",
    "\tcmd.create(tempC, cmpx)\n",
    "\tcmd.disable(cmpx)\n",
    "\t\n",
    "\t# remove cruft and inrrelevant chains\n",
    "\tcmd.remove(tempC + \" and not (polymer and (%s or %s))\" % (cA, cB))\n",
    "\t\n",
    "\t# get the area of the complete complex\n",
    "\tcmd.get_area(tempC, load_b=1)\n",
    "\t# copy the areas from the loaded b to the q, field.\n",
    "\tcmd.alter(tempC, 'q=b')\n",
    "\t\n",
    "\t# extract the two chains and calc. the new area\n",
    "\t# note: the q fields are copied to the new objects\n",
    "\t# chA and chB\n",
    "\tcmd.extract(chA, tempC + \" and (\" + cA + \")\")\n",
    "\tcmd.extract(chB, tempC + \" and (\" + cB + \")\")\n",
    "\tcmd.get_area(chA, load_b=1)\n",
    "\tcmd.get_area(chB, load_b=1)\n",
    "\t\n",
    "\t# update the chain-only objects w/the difference\n",
    "\tcmd.alter( \"%s or %s\" % (chA,chB), \"b=b-q\" )\n",
    "\t\n",
    "\t# The calculations are done.  Now, all we need to\n",
    "\t# do is to determine which residues are over the cutoff\n",
    "\t# and save them.\n",
    "\tstored.r, rVal, seen = [], [], []\n",
    "\tcmd.iterate('%s or %s' % (chA, chB), 'stored.r.append((model,resi,b))')\n",
    "\n",
    "\tcmd.enable(cmpx)\n",
    "\tcmd.select(selName1, 'none')\n",
    "\tfor (model,resi,diff) in stored.r:\n",
    "\t\tkey=resi+\"-\"+model\n",
    "\t\tif abs(diff)>=float(cutoff):\n",
    "\t\t\tif key in seen: continue\n",
    "\t\t\telse: seen.append(key)\n",
    "\t\t\trVal.append( (model,resi,diff) )\n",
    "\t\t\t# expand the selection here; I chose to iterate over stored.r instead of\n",
    "\t\t\t# creating one large selection b/c if there are too many residues PyMOL\n",
    "\t\t\t# might crash on a very large selection.  This is pretty much guaranteed\n",
    "\t\t\t# not to kill PyMOL; but, it might take a little longer to run.\n",
    "\t\t\tcmd.select( selName1, selName1 + \" or (%s and i. %s)\" % (model,resi))\n",
    "\n",
    "\t# this is how you transfer a selection to another object.\n",
    "\tcmd.select(selName, cmpx + \" in \" + selName1)\n",
    "\t# clean up after ourselves\n",
    "\tcmd.delete(selName1)\n",
    "\tcmd.delete(chA)\n",
    "\tcmd.delete(chB)\n",
    "\tcmd.delete(tempC)\n",
    "\t# show the selection\n",
    "\tcmd.enable(selName)\n",
    "\t\n",
    "\t# reset users settings\n",
    "\tcmd.set(\"dot_solvent\", oldDS)\n",
    "\t\n",
    "\treturn rVal\n",
    "\n",
    "cmd.extend(\"interfaceResidues\", interfaceResidues)"
   ]
  },
  {
   "cell_type": "code",
   "execution_count": 3,
   "metadata": {},
   "outputs": [
    {
     "data": {
      "text/plain": [
       "1"
      ]
     },
     "execution_count": 3,
     "metadata": {},
     "output_type": "execute_result"
    }
   ],
   "source": [
    "cmd.load('../data/scan_complex_pdbs/P17028_P28698_scand_complex.pdb')"
   ]
  },
  {
   "cell_type": "code",
   "execution_count": 4,
   "metadata": {},
   "outputs": [
    {
     "name": "stdout",
     "output_type": "stream",
     "text": [
      " PyMOL(TM) 3.0.1 - Incentive Product\n",
      " Copyright (C) Schrodinger, LLC\n",
      " \n",
      " This Executable Build integrates and extends Open-Source PyMOL.\n",
      "No License File - For Evaluation Only (29 days remaining)\n",
      " Detected OpenGL version 4.1. Shaders available.\n",
      " ShaderPrg-Error: vertex shader compilation failed.; name='bezier'\n",
      " ShaderPrg-Error-InfoLog:\n",
      "0:1(10): error: GLSL 4.50 is not supported. Supported versions are: 1.10, 1.20, 1.30, 1.40, 1.50, 3.30, 4.00, 4.10, 1.00 ES, and 3.00 ES\n",
      "\n",
      " Detected GLSL version 4.10.\n",
      " OpenGL graphics engine:\n",
      "  GL_VENDOR:   Microsoft Corporation\n",
      "  GL_RENDERER: D3D12 (Intel(R) UHD Graphics)\n",
      "  GL_VERSION:  4.1 (Compatibility Profile) Mesa 23.2.1-1ubuntu3.1~22.04.2\n",
      " ShaderPrg-Error: vertex shader compilation failed.; name='bezier'\n",
      " ShaderPrg-Error-InfoLog:\n",
      "0:1(10): error: GLSL 4.50 is not supported. Supported versions are: 1.10, 1.20, 1.30, 1.40, 1.50, 3.30, 4.00, 4.10, 1.00 ES, and 3.00 ES\n",
      "\n",
      "\n",
      " Detected 12 CPU cores.  Enabled multithreaded rendering.\n"
     ]
    }
   ],
   "source": [
    "interactor_residues = interfaceResidues(\"P17028_P28698_scand_complex\", \"chain A\", \"chain B\", 1.0, \"interface_residues\")"
   ]
  },
  {
   "cell_type": "code",
   "execution_count": 5,
   "metadata": {},
   "outputs": [
    {
     "data": {
      "text/plain": [
       "1"
      ]
     },
     "execution_count": 5,
     "metadata": {},
     "output_type": "execute_result"
    }
   ],
   "source": [
    "cmd.color(\"red\", \"interface_residues\")"
   ]
  },
  {
   "cell_type": "code",
   "execution_count": 9,
   "metadata": {},
   "outputs": [
    {
     "data": {
      "text/plain": [
       "[('chA', '4', 4.488032341003418),\n",
       " ('chA', '5', 11.351110458374023),\n",
       " ('chA', '7', 15.991887092590332),\n",
       " ('chA', '8', 3.732332706451416),\n",
       " ('chA', '9', 2.128385066986084),\n",
       " ('chA', '15', 4.068734645843506),\n",
       " ('chA', '16', 1.3074989318847656),\n",
       " ('chA', '18', 2.63851261138916),\n",
       " ('chA', '19', 5.345416069030762),\n",
       " ('chA', '22', 6.577596187591553),\n",
       " ('chA', '23', 3.2766122817993164),\n",
       " ('chA', '26', 8.623576164245605),\n",
       " ('chA', '27', 5.3726091384887695),\n",
       " ('chA', '29', 1.6003272533416748),\n",
       " ('chA', '30', 4.625360488891602),\n",
       " ('chA', '32', 15.909313201904297),\n",
       " ('chA', '33', 5.228797912597656),\n",
       " ('chA', '35', 11.252552032470703),\n",
       " ('chA', '36', 6.612647533416748),\n",
       " ('chA', '37', 2.275022506713867),\n",
       " ('chA', '38', 13.083211898803711),\n",
       " ('chA', '40', 7.390873908996582),\n",
       " ('chA', '41', 4.510503768920898),\n",
       " ('chA', '42', 19.555404663085938),\n",
       " ('chA', '44', 6.502278804779053),\n",
       " ('chA', '45', 3.6973764896392822),\n",
       " ('chA', '47', 7.314125061035156),\n",
       " ('chA', '48', 2.2392420768737793),\n",
       " ('chA', '49', 6.936159610748291),\n",
       " ('chA', '52', 15.098373413085938),\n",
       " ('chA', '53', 1.5154244899749756),\n",
       " ('chA', '54', 3.7904441356658936),\n",
       " ('chA', '57', 1.0130207538604736),\n",
       " ('chA', '69', 1.2268941402435303),\n",
       " ('chA', '70', 31.258987426757812),\n",
       " ('chA', '73', 8.128796577453613),\n",
       " ('chA', '74', 1.5154271125793457),\n",
       " ('chA', '76', 1.515427589416504),\n",
       " ('chA', '77', 16.999210357666016),\n",
       " ('chA', '80', 2.2354822158813477),\n",
       " ('chB', '4', 3.8842532634735107),\n",
       " ('chB', '5', 11.351116180419922),\n",
       " ('chB', '7', 15.133451461791992),\n",
       " ('chB', '8', 1.0408353805541992),\n",
       " ('chB', '9', 1.5549676418304443),\n",
       " ('chB', '10', 1.653310775756836),\n",
       " ('chB', '12', 5.800840377807617),\n",
       " ('chB', '13', 9.971487045288086),\n",
       " ('chB', '14', 6.880000591278076),\n",
       " ('chB', '15', 2.9950740337371826),\n",
       " ('chB', '16', 2.275021553039551),\n",
       " ('chB', '18', 1.4792286157608032),\n",
       " ('chB', '19', 6.502278804779053),\n",
       " ('chB', '22', 5.230557441711426),\n",
       " ('chB', '23', 3.468313217163086),\n",
       " ('chB', '26', 11.429804801940918),\n",
       " ('chB', '27', 6.227226257324219),\n",
       " ('chB', '29', 3.4801039695739746),\n",
       " ('chB', '30', 5.305875778198242),\n",
       " ('chB', '32', 15.839146614074707),\n",
       " ('chB', '33', 4.523105621337891),\n",
       " ('chB', '35', 10.124226570129395),\n",
       " ('chB', '36', 6.811891078948975),\n",
       " ('chB', '37', 4.103816032409668),\n",
       " ('chB', '38', 25.92827606201172),\n",
       " ('chB', '40', 2.2750191688537598),\n",
       " ('chB', '41', 6.7244672775268555),\n",
       " ('chB', '42', 1.515425682067871),\n",
       " ('chB', '44', 5.817996978759766),\n",
       " ('chB', '45', 5.173260688781738),\n",
       " ('chB', '47', 7.886163234710693),\n",
       " ('chB', '48', 1.5154274702072144),\n",
       " ('chB', '49', 5.893320083618164),\n",
       " ('chB', '52', 11.2492036819458),\n",
       " ('chB', '53', 5.230550765991211),\n",
       " ('chB', '54', 1.5907461643218994),\n",
       " ('chB', '57', 5.3454060554504395),\n",
       " ('chB', '69', 2.3503379821777344),\n",
       " ('chB', '70', 33.66503143310547),\n",
       " ('chB', '73', 1.590745449066162),\n",
       " ('chB', '76', 2.159818410873413),\n",
       " ('chB', '77', 1.554966688156128),\n",
       " ('chB', '80', 1.3074994087219238)]"
      ]
     },
     "execution_count": 9,
     "metadata": {},
     "output_type": "execute_result"
    }
   ],
   "source": [
    "interactor_residues"
   ]
  },
  {
   "cell_type": "code",
   "execution_count": 17,
   "metadata": {},
   "outputs": [
    {
     "data": {
      "text/plain": [
       "array([ 48,  49,  51,  52,  53,  59,  60,  62,  63,  66,  67,  70,  71,\n",
       "        73,  74,  76,  77,  79,  80,  81,  82,  84,  85,  86,  88,  89,\n",
       "        91,  92,  93,  96,  97,  98, 101, 113, 114, 117, 118, 120, 121,\n",
       "       124])"
      ]
     },
     "execution_count": 17,
     "metadata": {},
     "output_type": "execute_result"
    }
   ],
   "source": [
    "selected_numbers = [t[1] for t in interactor_residues if t[0] == 'chA']\n",
    "np.array(selected_numbers, dtype=int) + np.array([44]*len(selected_numbers))"
   ]
  }
 ],
 "metadata": {
  "kernelspec": {
   "display_name": "bio",
   "language": "python",
   "name": "python3"
  },
  "language_info": {
   "codemirror_mode": {
    "name": "ipython",
    "version": 3
   },
   "file_extension": ".py",
   "mimetype": "text/x-python",
   "name": "python",
   "nbconvert_exporter": "python",
   "pygments_lexer": "ipython3",
   "version": "3.12.2"
  }
 },
 "nbformat": 4,
 "nbformat_minor": 2
}
