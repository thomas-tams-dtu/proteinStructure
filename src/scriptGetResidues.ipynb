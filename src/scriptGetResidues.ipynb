{
 "cells": [
  {
   "cell_type": "code",
   "execution_count": 2,
   "metadata": {},
   "outputs": [],
   "source": [
    "import sys\n",
    "import pymol\n",
    "from pymol import cmd"
   ]
  },
  {
   "cell_type": "code",
   "execution_count": 3,
   "metadata": {},
   "outputs": [
    {
     "name": "stderr",
     "output_type": "stream",
     "text": [
      "qt.qpa.xcb: X server does not support XInput 2\n",
      "failed to get the current screen resources\n",
      "QStandardPaths: XDG_RUNTIME_DIR not set, defaulting to '/tmp/runtime-sahandy'\n"
     ]
    },
    {
     "name": "stdout",
     "output_type": "stream",
     "text": [
      " PyMOL(TM) 3.0.2 - Incentive Product\n",
      " Copyright (C) Schrodinger, LLC\n",
      " \n",
      " This Executable Build integrates and extends Open-Source PyMOL.\n"
     ]
    },
    {
     "name": "stderr",
     "output_type": "stream",
     "text": [
      "qt.qpa.gl: QXcbConnection: Failed to initialize GLX\n"
     ]
    },
    {
     "name": "stdout",
     "output_type": "stream",
     "text": [
      " License Expiry date: 01-aug-2024\n",
      " Detected OpenGL version 4.5. Shaders available.\n",
      " Detected GLSL version 4.50.\n",
      " OpenGL graphics engine:\n",
      "  GL_VENDOR:   Mesa/X.org\n",
      "  GL_RENDERER: llvmpipe (LLVM 13.0.1, 256 bits)\n",
      "  GL_VERSION:  4.5 (Compatibility Profile) Mesa 22.0.5\n"
     ]
    },
    {
     "name": "stderr",
     "output_type": "stream",
     "text": [
      "qt.qpa.xcb: QXcbConnection: XCB error: 1 (BadRequest), sequence: 165, resource id: 90, major code: 130 (Unknown), minor code: 47\n",
      "qt.qpa.xcb: QXcbConnection: XCB error: 170 (Unknown), sequence: 180, resource id: 90, major code: 146 (Unknown), minor code: 20\n"
     ]
    },
    {
     "name": "stdout",
     "output_type": "stream",
     "text": [
      " Detected 8 CPU cores.  Enabled multithreaded rendering.\n",
      "\n",
      "All residues in the protein have been selected.\n",
      "Residues within 6 Ångstroms of the reference selection have been written to complex_residues_with_3lhr.txt.\n"
     ]
    }
   ],
   "source": [
    "# Run PyMOL\n",
    "pymol.finish_launching()"
   ]
  },
  {
   "cell_type": "code",
   "execution_count": 4,
   "metadata": {},
   "outputs": [],
   "source": [
    "# Selects all residues in the specified protein\n",
    "def select_all_residues(protein_id):\n",
    "    cmd.select(\"all_residues\", protein_id)\n",
    "    print(\"All residues in the protein have been selected.\")"
   ]
  },
  {
   "cell_type": "code",
   "execution_count": 5,
   "metadata": {},
   "outputs": [],
   "source": [
    "def select_residues_within_distance(reference_selection, distance, output_file):\n",
    "    # Define a reference selection if it's not already defined\n",
    "    if not cmd.count_atoms(reference_selection):\n",
    "        print(f\"Error: Selection '{reference_selection}' not found.\")\n",
    "        return\n",
    "    \n",
    "    # Select residues within the specified distance around the reference selection\n",
    "    cmd.select(\"residues_within_6A\", f\"byres {reference_selection} around {distance}\")\n",
    "    \n",
    "    # Get the model of the newly selected residues\n",
    "    selected_model = cmd.get_model(\"residues_within_6A\")\n",
    "    \n",
    "    # Keep track of unique residue IDs\n",
    "    unique_residues = set()\n",
    "    \n",
    "    # Write the amino acids and positions to the output file\n",
    "    with open(output_file, \"w\") as f:\n",
    "        for atom in selected_model.atom:\n",
    "            if atom.resn and atom.resi:\n",
    "                residue_id = (atom.resn, atom.resi)\n",
    "                if residue_id not in unique_residues:\n",
    "                    f.write(f\"{atom.resn} {atom.resi}\\n\")\n",
    "                    unique_residues.add(residue_id)\n",
    "    \n",
    "    print(f\"Residues within {distance} Ångstroms of the reference selection have been written to {output_file}.\")\n"
   ]
  },
  {
   "cell_type": "code",
   "execution_count": 6,
   "metadata": {},
   "outputs": [],
   "source": [
    "# Fetch the protein specified as input\n",
    "def fetch_protein(protein_id):\n",
    "    cmd.fetch(protein_id)\n",
    "    cmd.remove(\"solvent\")"
   ]
  },
  {
   "cell_type": "code",
   "execution_count": 7,
   "metadata": {},
   "outputs": [],
   "source": [
    "# Define the protein IDs\n",
    "protein1_id = \"3lhr\"\n",
    "protein2_id = \"SCAN_domain_P28698_model0_checked_Repair\"\n",
    "\n",
    "# Construct the output file name\n",
    "output_file = f\"complex_residues_with_{protein1_id}.txt\"\n",
    "\n",
    "# Fetch the proteins and select residues\n",
    "fetch_protein(protein1_id)\n",
    "\n",
    "# Load the PDB file for protein2_id\n",
    "cmd.load(\"SCAN_domain_P28698_model0_checked_Repair.pdb\", protein2_id)\n",
    "\n",
    "select_all_residues(protein1_id)\n",
    "\n",
    "select_residues_within_distance(\"all_residues\", 6, output_file)\n",
    "\n"
   ]
  },
  {
   "cell_type": "code",
   "execution_count": 12,
   "metadata": {},
   "outputs": [],
   "source": [
    "cmd.remove(\"all\")"
   ]
  }
 ],
 "metadata": {
  "kernelspec": {
   "display_name": "pymol",
   "language": "python",
   "name": "python3"
  },
  "language_info": {
   "codemirror_mode": {
    "name": "ipython",
    "version": 3
   },
   "file_extension": ".py",
   "mimetype": "text/x-python",
   "name": "python",
   "nbconvert_exporter": "python",
   "pygments_lexer": "ipython3",
   "version": "3.12.2"
  }
 },
 "nbformat": 4,
 "nbformat_minor": 2
}
