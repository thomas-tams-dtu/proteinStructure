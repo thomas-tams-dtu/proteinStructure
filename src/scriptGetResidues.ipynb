{
 "cells": [
  {
   "cell_type": "code",
   "execution_count": 1,
   "metadata": {},
   "outputs": [],
   "source": [
    "#Import libraries\n",
    "import sys\n",
    "import pymol\n",
    "from pymol import cmd"
   ]
  },
  {
   "cell_type": "code",
   "execution_count": null,
   "metadata": {},
   "outputs": [],
   "source": [
    "# Run PyMOL\n",
    "pymol.finish_launching()"
   ]
  },
  {
   "cell_type": "code",
   "execution_count": 3,
   "metadata": {},
   "outputs": [],
   "source": [
    "# Selects all residues in the specified protein\n",
    "def select_all_residues(protein_id):\n",
    "    cmd.select(\"all_residues\", protein_id)\n",
    "    #print(\"All residues in the protein have been selected.\")"
   ]
  },
  {
   "cell_type": "code",
   "execution_count": 4,
   "metadata": {},
   "outputs": [],
   "source": [
    "def select_residues_within_distance(interactor, angstrom, output_file):\n",
    "\n",
    "    # Define a reference selection if it's not already defined\n",
    "    if not cmd.count_atoms(interactor):\n",
    "        #print(f\"Error: Selection '{interactor}' not found.\")\n",
    "        return\n",
    "    \n",
    "    # Select residues within the specified distance around the reference selection\n",
    "    cmd.select(\"residues_within_6A\", f\"byres {interactor} around {angstrom}\")\n",
    "    \n",
    "    # Get the model of the newly selected residues\n",
    "    selected_residues = cmd.get_model(\"residues_within_6A\")\n",
    "    \n",
    "    # Keep track of unique residue IDs\n",
    "    unique_residues = set()\n",
    "    \n",
    "    # Write the amino acids and positions to the output file\n",
    "    with open(output_file, \"w\") as f:\n",
    "        for atom in selected_residues.atom:\n",
    "            if atom.resn and atom.resi:\n",
    "                residue_id = (atom.resn, atom.resi)\n",
    "                if residue_id not in unique_residues:\n",
    "                    f.write(f\"{atom.resn} {atom.resi}\\n\")\n",
    "                    unique_residues.add(residue_id)\n",
    "    \n",
    "    #print(f\"Residues within {angstrom} Ångstroms of the reference selection have been written to {output_file}.\")\n"
   ]
  },
  {
   "cell_type": "code",
   "execution_count": 24,
   "metadata": {},
   "outputs": [],
   "source": [
    "def fetch_protein(protein_id):\n",
    "    # Fetch the protein into a temporary object\n",
    "    cmd.fetch(protein_id, type=\"pdb\", async_=0)\n",
    "    cmd.remove(\"solvent\")\n",
    "    \n",
    "    # Generate a unique object name\n",
    "    temp_object_name = f\"{protein_id}_temp\"\n",
    "    if temp_object_name in cmd.get_object_list():\n",
    "        temp_object_name += \"_1\"  # Append a suffix if the name is already in use\n",
    "    \n",
    "    # Debug output\n",
    "    print(f\"Creating object '{temp_object_name}' with selection '{protein_id}'\")\n",
    "    \n",
    "    # Append the temporary object to the existing object\n",
    "    cmd.create(protein_id, temp_object_name)\n",
    "    cmd.delete(temp_object_name)"
   ]
  },
  {
   "cell_type": "code",
   "execution_count": 19,
   "metadata": {},
   "outputs": [],
   "source": [
    "# Define the protein IDs\n",
    "protein1_id = \"3lhr\"\n",
    "protein2_id = \"SCAN_domain_P28698_model0_checked_Repair\""
   ]
  },
  {
   "cell_type": "code",
   "execution_count": 20,
   "metadata": {},
   "outputs": [],
   "source": [
    "# Construct the output file name\n",
    "output_file = f\"complex_residues_with_{protein1_id}.txt\""
   ]
  },
  {
   "cell_type": "code",
   "execution_count": null,
   "metadata": {},
   "outputs": [],
   "source": [
    "# Fetch the proteins and select residues\n",
    "fetch_protein(protein1_id)"
   ]
  },
  {
   "cell_type": "code",
   "execution_count": null,
   "metadata": {},
   "outputs": [],
   "source": [
    "# Load the PDB file for protein2_id\n",
    "cmd.load(\"../data/SCAN_domain_P28698_model0_checked_Repair.pdb\", protein2_id)"
   ]
  },
  {
   "cell_type": "code",
   "execution_count": null,
   "metadata": {},
   "outputs": [],
   "source": [
    "select_all_residues(protein1_id)"
   ]
  },
  {
   "cell_type": "code",
   "execution_count": null,
   "metadata": {},
   "outputs": [],
   "source": [
    "select_residues_within_distance(\"all_residues\", 6, output_file)"
   ]
  },
  {
   "cell_type": "code",
   "execution_count": 12,
   "metadata": {},
   "outputs": [],
   "source": [
    "cmd.remove(\"all\")"
   ]
  }
 ],
 "metadata": {
  "kernelspec": {
   "display_name": "pymol",
   "language": "python",
   "name": "python3"
  },
  "language_info": {
   "codemirror_mode": {
    "name": "ipython",
    "version": 3
   },
   "file_extension": ".py",
   "mimetype": "text/x-python",
   "name": "python",
   "nbconvert_exporter": "python",
   "pygments_lexer": "ipython3",
   "version": "3.12.2"
  }
 },
 "nbformat": 4,
 "nbformat_minor": 2
}
