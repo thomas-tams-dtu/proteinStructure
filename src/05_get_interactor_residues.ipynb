{
 "cells": [
  {
   "cell_type": "code",
   "execution_count": 2,
   "metadata": {},
   "outputs": [],
   "source": [
    "#Import libraries\n",
    "import pymol\n",
    "from pymol import cmd\n",
    "import os"
   ]
  },
  {
   "cell_type": "code",
   "execution_count": null,
   "metadata": {},
   "outputs": [],
   "source": [
    "# Run PyMOL\n",
    "pymol.finish_launching()"
   ]
  },
  {
   "cell_type": "code",
   "execution_count": 8,
   "metadata": {},
   "outputs": [],
   "source": [
    "def select_all_residues(selection):\n",
    "    cmd.select(\"all_residues\", f\"chain {selection}\")\n",
    "    #print(\"All residues in the selection have been selected.\")"
   ]
  },
  {
   "cell_type": "code",
   "execution_count": 4,
   "metadata": {},
   "outputs": [],
   "source": [
    "def select_residues_within_distance(reference_selection, distance, output_file):\n",
    "    # Define a reference selection if it's not already defined\n",
    "    if not cmd.count_atoms(reference_selection):\n",
    "        #print(f\"Error: Selection '{reference_selection}' not found.\")\n",
    "        return\n",
    "    \n",
    "    # Select residues within the specified distance around the reference selection\n",
    "    cmd.select(\"residues_within_6A\", f\"byres {reference_selection} around {distance}\")\n",
    "    \n",
    "    # Get the model of the newly selected residues\n",
    "    selected_model = cmd.get_model(\"residues_within_6A\")\n",
    "    \n",
    "    # Keep track of unique residue IDs\n",
    "    unique_residues = set()\n",
    "    \n",
    "    # Write the amino acids and positions to the output file\n",
    "    with open(output_file, \"w\") as f:\n",
    "        for atom in selected_model.atom:\n",
    "            if atom.resn and atom.resi:\n",
    "                residue_id = (atom.resn, atom.resi)\n",
    "                if residue_id not in unique_residues:\n",
    "                    f.write(f\"{atom.resn} {atom.resi}\\n\")\n",
    "                    unique_residues.add(residue_id)\n",
    "    \n",
    "    #print(f\"Residues within {distance} Ångstroms of the reference selection have been written to {output_file}.\")"
   ]
  },
  {
   "cell_type": "code",
   "execution_count": 5,
   "metadata": {},
   "outputs": [],
   "source": [
    "def fetch_and_select_residues(protein_id, chain, output_file):\n",
    "    # Fetch the protein\n",
    "    cmd.fetch(protein_id)\n",
    "    cmd.remove(\"solvent\")\n",
    "    \n",
    "    # Select the specified chain\n",
    "    cmd.select(chain, f\"chain {chain}\")\n",
    "    \n",
    "    # Perform the same operations as for protein1_id on Chain B\n",
    "    select_all_residues(chain)\n",
    "    select_residues_within_distance(f\"{chain}_\", 6, output_file)  # Update this line"
   ]
  },
  {
   "cell_type": "code",
   "execution_count": 6,
   "metadata": {},
   "outputs": [],
   "source": [
    "def load_and_select_chains(pdb_path, chain_A, chain_B, output_file_prefix):\n",
    "    # Load PDB file\n",
    "    cmd.load(pdb_path)\n",
    "    \n",
    "    # Select Chain A and Chain B\n",
    "    cmd.select(\"chain_A\", f\"chain {chain_A}\")\n",
    "    cmd.select(\"chain_B\", f\"chain {chain_B}\")\n",
    "    \n",
    "    # Construct output file name for Chain B\n",
    "    output_file_B = f\"{output_file_prefix}_{chain_B}_residues.txt\"\n",
    "    \n",
    "    # Fetch and select residues for Chain B\n",
    "    fetch_and_select_residues(\"SCAN_domain_P28698_model0_checked_Repair\", chain_B, output_file_B)"
   ]
  },
  {
   "cell_type": "code",
   "execution_count": 22,
   "metadata": {},
   "outputs": [],
   "source": [
    "# Specify the path to the PDB file\n",
    "pdb_path = \"../data/scan_complex_pdbs/Q8NBB4_P28698_scand_complex.pdb\"\n",
    "\n",
    "# Define the chain IDs\n",
    "chain_A = \"A\"\n",
    "chain_B = \"B\"\n",
    "\n",
    "# Extract the unique identifier from the PDB file name\n",
    "output_file_prefix = os.path.splitext(os.path.basename(pdb_path))[0]\n",
    "\n",
    "# Load and select residues for Chain B\n",
    "load_and_select_chains(pdb_path, chain_A, chain_B, output_file_prefix)"
   ]
  },
  {
   "cell_type": "code",
   "execution_count": 21,
   "metadata": {},
   "outputs": [],
   "source": [
    "cmd.delete(\"all\")"
   ]
  }
 ],
 "metadata": {
  "kernelspec": {
   "display_name": "pymol",
   "language": "python",
   "name": "python3"
  },
  "language_info": {
   "codemirror_mode": {
    "name": "ipython",
    "version": 3
   },
   "file_extension": ".py",
   "mimetype": "text/x-python",
   "name": "python",
   "nbconvert_exporter": "python",
   "pygments_lexer": "ipython3",
   "version": "3.12.2"
  }
 },
 "nbformat": 4,
 "nbformat_minor": 2
}
