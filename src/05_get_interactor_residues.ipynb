{
 "cells": [
  {
   "cell_type": "code",
   "execution_count": 2,
   "metadata": {},
   "outputs": [],
   "source": [
    "#Import libraries\n",
    "import pymol\n",
    "from pymol import cmd\n",
    "import os"
   ]
  },
  {
   "cell_type": "code",
   "execution_count": 3,
   "metadata": {},
   "outputs": [
    {
     "name": "stderr",
     "output_type": "stream",
     "text": [
      "qt.qpa.xcb: X server does not support XInput 2\n",
      "failed to get the current screen resources\n",
      "QStandardPaths: XDG_RUNTIME_DIR not set, defaulting to '/tmp/runtime-sahandy'\n",
      "qt.qpa.gl: QXcbConnection: Failed to initialize GLX\n"
     ]
    },
    {
     "name": "stdout",
     "output_type": "stream",
     "text": [
      " PyMOL(TM) 3.0.2 - Incentive Product\n",
      " Copyright (C) Schrodinger, LLC\n",
      " \n",
      " This Executable Build integrates and extends Open-Source PyMOL.\n",
      " License Expiry date: 01-aug-2024\n",
      " Detected OpenGL version 4.5. Shaders available.\n",
      " Detected GLSL version 4.50.\n",
      " OpenGL graphics engine:\n",
      "  GL_VENDOR:   Mesa/X.org\n",
      "  GL_RENDERER: llvmpipe (LLVM 13.0.1, 256 bits)\n",
      "  GL_VERSION:  4.5 (Compatibility Profile) Mesa 22.0.5\n",
      " Detected 8 CPU cores.  Enabled multithreaded rendering.\n"
     ]
    },
    {
     "name": "stderr",
     "output_type": "stream",
     "text": [
      "qt.qpa.xcb: QXcbConnection: XCB error: 1 (BadRequest), sequence: 165, resource id: 90, major code: 130 (Unknown), minor code: 47\n",
      "qt.qpa.xcb: QXcbConnection: XCB error: 170 (Unknown), sequence: 180, resource id: 90, major code: 146 (Unknown), minor code: 20\n"
     ]
    },
    {
     "name": "stdout",
     "output_type": "stream",
     "text": [
      "\n",
      " Error-fetch: unable to load 'scan_domain_p28698_model0_checked_repair'.\n",
      " Warning: 'B' is a reserved keyword, appending underscore\n",
      "\n",
      " Error-fetch: unable to load 'scan_domain_p28698_model0_checked_repair'.\n",
      " Warning: 'B' is a reserved keyword, appending underscore\n",
      "\n",
      " Error-fetch: unable to load 'scan_domain_p28698_model0_checked_repair'.\n",
      " Warning: 'B' is a reserved keyword, appending underscore\n",
      "\n",
      " Error-fetch: unable to load 'scan_domain_p28698_model0_checked_repair'.\n",
      " Warning: 'B' is a reserved keyword, appending underscore\n",
      "\n"
     ]
    }
   ],
   "source": [
    "# Run PyMOL\n",
    "pymol.finish_launching()"
   ]
  },
  {
   "cell_type": "code",
   "execution_count": 4,
   "metadata": {},
   "outputs": [],
   "source": [
    "def select_all_residues(selection):\n",
    "    cmd.select(\"all_residues\", f\"chain {selection}\")\n",
    "    #print(\"All residues in the selection have been selected.\")"
   ]
  },
  {
   "cell_type": "code",
   "execution_count": 5,
   "metadata": {},
   "outputs": [],
   "source": [
    "def select_residues_within_distance(reference_selection, distance, output_file):\n",
    "    # Define a reference selection if it's not already defined\n",
    "    if not cmd.count_atoms(reference_selection):\n",
    "        #print(f\"Error: Selection '{reference_selection}' not found.\")\n",
    "        return\n",
    "    \n",
    "    # Select residues within the specified distance around the reference selection\n",
    "    cmd.select(\"residues_within_6A\", f\"byres {reference_selection} around {distance}\")\n",
    "    \n",
    "    # Get the model of the newly selected residues\n",
    "    selected_model = cmd.get_model(\"residues_within_6A\")\n",
    "    \n",
    "    # Keep track of unique residue IDs\n",
    "    unique_residues = set()\n",
    "    \n",
    "    # Write the amino acids and positions to the output file\n",
    "    with open(output_file, \"w\") as f:\n",
    "        for atom in selected_model.atom:\n",
    "            if atom.resn and atom.resi:\n",
    "                residue_id = (atom.resn, atom.resi)\n",
    "                if residue_id not in unique_residues:\n",
    "                    f.write(f\"{atom.resn} {atom.resi}\\n\")\n",
    "                    unique_residues.add(residue_id)\n",
    "    \n",
    "    #print(f\"Residues within {distance} Ångstroms of the reference selection have been written to {output_file}.\")"
   ]
  },
  {
   "cell_type": "code",
   "execution_count": 13,
   "metadata": {},
   "outputs": [],
   "source": [
    "def fetch_and_select_residues(protein_id, chain, output_file):\n",
    "    # Fetch the protein\n",
    "    cmd.fetch(protein_id)\n",
    "    cmd.remove(\"solvent\")\n",
    "    \n",
    "    # Select the specified chain\n",
    "    cmd.select(chain, f\"chain {chain}\")\n",
    "    \n",
    "    # Perform the same operations as for protein1_id on Chain B\n",
    "    select_all_residues(chain)\n",
    "    select_residues_within_distance(f\"{chain}_\", 6, output_file)  # Update this line\n"
   ]
  },
  {
   "cell_type": "code",
   "execution_count": 7,
   "metadata": {},
   "outputs": [],
   "source": [
    "def load_and_select_chains(pdb_path, chain_A, chain_B, output_file_prefix):\n",
    "    # Load PDB file\n",
    "    cmd.load(pdb_path)\n",
    "    \n",
    "    # Select Chain A and Chain B\n",
    "    cmd.select(\"chain_A\", f\"chain {chain_A}\")\n",
    "    cmd.select(\"chain_B\", f\"chain {chain_B}\")\n",
    "    \n",
    "    # Construct output file name for Chain B\n",
    "    output_file_B = f\"{output_file_prefix}_{chain_B}_residues.txt\"\n",
    "    \n",
    "    # Fetch and select residues for Chain B\n",
    "    fetch_and_select_residues(\"SCAN_domain_P28698_model0_checked_Repair\", chain_B, output_file_B)"
   ]
  },
  {
   "cell_type": "code",
   "execution_count": 14,
   "metadata": {},
   "outputs": [],
   "source": [
    "# Specify the path to the PDB file\n",
    "pdb_path = \"../data/scan_complex_pdbs/P17028_P28698_scand_complex.pdb\"\n",
    "\n",
    "# Define the chain IDs\n",
    "chain_A = \"A\"\n",
    "chain_B = \"B\"\n",
    "\n",
    "# Extract the unique identifier from the PDB file name\n",
    "output_file_prefix = os.path.splitext(os.path.basename(pdb_path))[0]\n",
    "\n",
    "# Load and select residues for Chain B\n",
    "load_and_select_chains(pdb_path, chain_A, chain_B, output_file_prefix)"
   ]
  },
  {
   "cell_type": "code",
   "execution_count": 9,
   "metadata": {},
   "outputs": [],
   "source": [
    "cmd.delete(\"all\")\n"
   ]
  }
 ],
 "metadata": {
  "kernelspec": {
   "display_name": "pymol",
   "language": "python",
   "name": "python3"
  },
  "language_info": {
   "codemirror_mode": {
    "name": "ipython",
    "version": 3
   },
   "file_extension": ".py",
   "mimetype": "text/x-python",
   "name": "python",
   "nbconvert_exporter": "python",
   "pygments_lexer": "ipython3",
   "version": "3.12.2"
  }
 },
 "nbformat": 4,
 "nbformat_minor": 2
}
