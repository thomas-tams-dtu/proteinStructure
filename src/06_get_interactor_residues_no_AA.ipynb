{
 "cells": [
  {
   "cell_type": "code",
   "execution_count": 1,
   "metadata": {},
   "outputs": [],
   "source": [
    "#Select kernel before running\n",
    "\n",
    "#Import libraries\n",
    "import pymol\n",
    "from pymol import cmd\n",
    "import os"
   ]
  },
  {
   "cell_type": "code",
   "execution_count": null,
   "metadata": {},
   "outputs": [],
   "source": [
    "#Run/Launch PyMOL\n",
    "pymol.finish_launching()"
   ]
  },
  {
   "cell_type": "code",
   "execution_count": 3,
   "metadata": {},
   "outputs": [],
   "source": [
    "#Function selects all residues of the interactor protein\n",
    "def select_all_residues(selection):\n",
    "    cmd.select(\"all_residues\", f\"chain {selection}\")\n",
    "    #print(\"All residues in the selection have been selected.\")"
   ]
  },
  {
   "cell_type": "code",
   "execution_count": 4,
   "metadata": {},
   "outputs": [],
   "source": [
    "#Function selects interface residues on our SCAN domain MZF1\n",
    "def select_residues_within_distance(interactor, distance, output_file):\n",
    "\n",
    "    # Define a interactor if it's not already defined\n",
    "    if not cmd.count_atoms(interactor):\n",
    "        print(f\"Error: Selection '{interactor}' not found.\")\n",
    "        return\n",
    "    \n",
    "    # Select residues within the specified distance around the interactor\n",
    "    cmd.select(\"residues_within_6A\", f\"byres {interactor} around {distance}\")\n",
    "    \n",
    "    # Get the model of the newly selected residues\n",
    "    selected_model = cmd.get_model(\"residues_within_6A\")\n",
    "    \n",
    "    # Keep track of unique residue IDs (No repeated entries)\n",
    "    unique_residues = set()\n",
    "    \n",
    "    # Write the residue positions to the output file (writes to file later specified as .txt)\n",
    "    with open(output_file, \"w\") as f:\n",
    "        for atom in selected_model.atom:\n",
    "            if atom.resi:\n",
    "                residue_id = atom.resi\n",
    "                if residue_id not in unique_residues:\n",
    "                    f.write(f\"{residue_id}\\n\")\n",
    "                    unique_residues.add(residue_id)"
   ]
  },
  {
   "cell_type": "code",
   "execution_count": 5,
   "metadata": {},
   "outputs": [],
   "source": [
    "#Function fetch \n",
    "def fetch_and_select_residues(protein_id, chain, output_file):\n",
    "    # Fetch the protein and remove H2O (solvent).\n",
    "    cmd.fetch(protein_id) \n",
    "    cmd.remove(\"solvent\")\n",
    "    \n",
    "    # Select the specified chain\n",
    "    cmd.select(chain, f\"chain {chain}\")\n",
    "    \n",
    "    # Performing to previous functions\n",
    "    select_all_residues(chain)\n",
    "    select_residues_within_distance(f\"{chain}_\", 6, output_file)"
   ]
  },
  {
   "cell_type": "code",
   "execution_count": 8,
   "metadata": {},
   "outputs": [],
   "source": [
    "def load_and_select_chains(pdb_path, chain_A, chain_B, output_file_prefix):\n",
    "    # Load PDB file \n",
    "    cmd.load(pdb_path)\n",
    "    \n",
    "    # Select Chain A and Chain B\n",
    "    cmd.select(\"chain_A\", f\"chain {chain_A}\")\n",
    "    cmd.select(\"chain_B\", f\"chain {chain_B}\")\n",
    "    \n",
    "    # Construct output file name for Chain B\n",
    "    output_file_B = f\"{output_file_prefix}_{chain_B}_residues.txt\"\n",
    "    \n",
    "    # Fetch and select residues for Chain B\n",
    "    fetch_and_select_residues(\"SCAN_domain_P28698_model0_checked_Repair\", chain_B, output_file_B)"
   ]
  },
  {
   "cell_type": "code",
   "execution_count": 11,
   "metadata": {},
   "outputs": [],
   "source": [
    "# PDB file for complexes from AlphaFold\n",
    "pdb_path = \"../data/scan_complex_pdbs/P57086_P28698_scand_complex.pdb\"\n",
    "\n",
    "# Define the chain IDs\n",
    "chain_A = \"A\"\n",
    "chain_B = \"B\"\n",
    "\n",
    "# Extract the unique identifier from the PDB file name to save files with unique names\n",
    "output_file_prefix = os.path.splitext(os.path.basename(pdb_path))[0]\n",
    "\n",
    "# Load and select residues for Chain B\n",
    "load_and_select_chains(pdb_path, chain_A, chain_B, output_file_prefix)"
   ]
  },
  {
   "cell_type": "code",
   "execution_count": 12,
   "metadata": {},
   "outputs": [],
   "source": [
    "#Delete everything and start over.\n",
    "cmd.delete(\"all\")"
   ]
  }
 ],
 "metadata": {
  "kernelspec": {
   "display_name": "pymol",
   "language": "python",
   "name": "python3"
  },
  "language_info": {
   "codemirror_mode": {
    "name": "ipython",
    "version": 3
   },
   "file_extension": ".py",
   "mimetype": "text/x-python",
   "name": "python",
   "nbconvert_exporter": "python",
   "pygments_lexer": "ipython3",
   "version": "3.12.2"
  }
 },
 "nbformat": 4,
 "nbformat_minor": 2
}
