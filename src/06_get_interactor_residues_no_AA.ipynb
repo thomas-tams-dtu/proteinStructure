{
 "cells": [
  {
   "cell_type": "code",
   "execution_count": 1,
   "metadata": {},
   "outputs": [],
   "source": [
    "#Select kernel before running\n",
    "\n",
    "#Import libraries\n",
    "import pymol\n",
    "from pymol import cmd\n",
    "import os"
   ]
  },
  {
   "cell_type": "code",
   "execution_count": 2,
   "metadata": {},
   "outputs": [],
   "source": [
    "#Run/Launch PyMOL\n",
    "#pymol.finish_launching()"
   ]
  },
  {
   "cell_type": "code",
   "execution_count": 3,
   "metadata": {},
   "outputs": [],
   "source": [
    "#Function selects all residues of the interactor protein\n",
    "def select_all_residues(selection):\n",
    "    cmd.select(\"all_residues\", f\"chain {selection}\")\n",
    "    #print(\"All residues in the selection have been selected.\")"
   ]
  },
  {
   "cell_type": "code",
   "execution_count": 11,
   "metadata": {},
   "outputs": [],
   "source": [
    "#Function selects interface residues on our SCAN domain MZF1\n",
    "def select_residues_within_distance(interactor, distance, output_file):\n",
    "\n",
    "    # Define a interactor if it's not already defined\n",
    "    if not cmd.count_atoms(interactor):\n",
    "        print(f\"Error: Selection '{interactor}' not found.\")\n",
    "        return\n",
    "    \n",
    "    # Select residues within the specified distance around the interactor\n",
    "    cmd.select(\"residues_within_6A\", f\"byres {interactor} around {distance}\")\n",
    "    \n",
    "    # Get the model of the newly selected residues\n",
    "    selected_model = cmd.get_model(\"residues_within_6A\")\n",
    "    \n",
    "    # Keep track of unique residue IDs (No repeated entries)\n",
    "    unique_residues = set()\n",
    "    \n",
    "    # Write the residue positions to the output file (writes to file later specified as .txt)\n",
    "    with open(output_file, \"w\") as f:\n",
    "        for atom in selected_model.atom:\n",
    "            if atom.resi:\n",
    "                residue_id = atom.resi\n",
    "                if residue_id not in unique_residues:\n",
    "                    f.write(f\"{residue_id}\\n\")\n",
    "                    unique_residues.add(residue_id)"
   ]
  },
  {
   "cell_type": "code",
   "execution_count": 5,
   "metadata": {},
   "outputs": [],
   "source": [
    "#Function fetch \n",
    "def fetch_and_select_residues(protein_id, chain, output_file):\n",
    "    # Fetch the protein and remove H2O (solvent).\n",
    "    cmd.fetch(protein_id) \n",
    "    cmd.remove(\"solvent\")\n",
    "    \n",
    "    # Select the specified chain\n",
    "    cmd.select(chain, f\"chain {chain}\")\n",
    "    \n",
    "    # Performing to previous functions\n",
    "    select_all_residues(chain)\n",
    "    select_residues_within_distance(f\"{chain}_\", 6, output_file)"
   ]
  },
  {
   "cell_type": "code",
   "execution_count": 6,
   "metadata": {},
   "outputs": [],
   "source": [
    "def load_and_select_chains(pdb_path, chain_A, chain_B, output_file_prefix):\n",
    "    # Load PDB file \n",
    "    cmd.load(pdb_path)\n",
    "    \n",
    "    # Select Chain A and Chain B\n",
    "    cmd.select(\"chain_A\", f\"chain {chain_A}\")\n",
    "    cmd.select(\"chain_B\", f\"chain {chain_B}\")\n",
    "    \n",
    "    # Construct output file name for Chain B\n",
    "    output_file_B = f\"{output_file_prefix}_{chain_B}_residues.txt\"\n",
    "    \n",
    "    # Fetch and select residues for Chain B\n",
    "    fetch_and_select_residues(\"SCAN_domain_P28698_model0_checked_Repair\", chain_B, output_file_B)"
   ]
  },
  {
   "cell_type": "code",
   "execution_count": 12,
   "metadata": {},
   "outputs": [
    {
     "name": "stdout",
     "output_type": "stream",
     "text": [
      "\n",
      " Error-fetch: unable to load 'scan_domain_p28698_model0_checked_repair'.\n",
      " Warning: 'B' is a reserved keyword, appending underscore\n"
     ]
    },
    {
     "ename": "AttributeError",
     "evalue": "'Indexed' object has no attribute 'resi'",
     "output_type": "error",
     "traceback": [
      "\u001b[0;31m---------------------------------------------------------------------------\u001b[0m",
      "\u001b[0;31mAttributeError\u001b[0m                            Traceback (most recent call last)",
      "Cell \u001b[0;32mIn[12], line 12\u001b[0m\n\u001b[1;32m      9\u001b[0m output_file_prefix \u001b[38;5;241m=\u001b[39m os\u001b[38;5;241m.\u001b[39mpath\u001b[38;5;241m.\u001b[39msplitext(os\u001b[38;5;241m.\u001b[39mpath\u001b[38;5;241m.\u001b[39mbasename(pdb_path))[\u001b[38;5;241m0\u001b[39m]\n\u001b[1;32m     11\u001b[0m \u001b[38;5;66;03m# Load and select residues for Chain B\u001b[39;00m\n\u001b[0;32m---> 12\u001b[0m \u001b[43mload_and_select_chains\u001b[49m\u001b[43m(\u001b[49m\u001b[43mpdb_path\u001b[49m\u001b[43m,\u001b[49m\u001b[43m \u001b[49m\u001b[43mchain_A\u001b[49m\u001b[43m,\u001b[49m\u001b[43m \u001b[49m\u001b[43mchain_B\u001b[49m\u001b[43m,\u001b[49m\u001b[43m \u001b[49m\u001b[43moutput_file_prefix\u001b[49m\u001b[43m)\u001b[49m\n",
      "Cell \u001b[0;32mIn[6], line 13\u001b[0m, in \u001b[0;36mload_and_select_chains\u001b[0;34m(pdb_path, chain_A, chain_B, output_file_prefix)\u001b[0m\n\u001b[1;32m     10\u001b[0m output_file_B \u001b[38;5;241m=\u001b[39m \u001b[38;5;124mf\u001b[39m\u001b[38;5;124m\"\u001b[39m\u001b[38;5;132;01m{\u001b[39;00moutput_file_prefix\u001b[38;5;132;01m}\u001b[39;00m\u001b[38;5;124m_\u001b[39m\u001b[38;5;132;01m{\u001b[39;00mchain_B\u001b[38;5;132;01m}\u001b[39;00m\u001b[38;5;124m_residues.txt\u001b[39m\u001b[38;5;124m\"\u001b[39m\n\u001b[1;32m     12\u001b[0m \u001b[38;5;66;03m# Fetch and select residues for Chain B\u001b[39;00m\n\u001b[0;32m---> 13\u001b[0m \u001b[43mfetch_and_select_residues\u001b[49m\u001b[43m(\u001b[49m\u001b[38;5;124;43m\"\u001b[39;49m\u001b[38;5;124;43mSCAN_domain_P28698_model0_checked_Repair\u001b[39;49m\u001b[38;5;124;43m\"\u001b[39;49m\u001b[43m,\u001b[49m\u001b[43m \u001b[49m\u001b[43mchain_B\u001b[49m\u001b[43m,\u001b[49m\u001b[43m \u001b[49m\u001b[43moutput_file_B\u001b[49m\u001b[43m)\u001b[49m\n",
      "Cell \u001b[0;32mIn[5], line 12\u001b[0m, in \u001b[0;36mfetch_and_select_residues\u001b[0;34m(protein_id, chain, output_file)\u001b[0m\n\u001b[1;32m     10\u001b[0m \u001b[38;5;66;03m# Performing to previous functions\u001b[39;00m\n\u001b[1;32m     11\u001b[0m select_all_residues(chain)\n\u001b[0;32m---> 12\u001b[0m \u001b[43mselect_residues_within_distance\u001b[49m\u001b[43m(\u001b[49m\u001b[38;5;124;43mf\u001b[39;49m\u001b[38;5;124;43m\"\u001b[39;49m\u001b[38;5;132;43;01m{\u001b[39;49;00m\u001b[43mchain\u001b[49m\u001b[38;5;132;43;01m}\u001b[39;49;00m\u001b[38;5;124;43m_\u001b[39;49m\u001b[38;5;124;43m\"\u001b[39;49m\u001b[43m,\u001b[49m\u001b[43m \u001b[49m\u001b[38;5;241;43m6\u001b[39;49m\u001b[43m,\u001b[49m\u001b[43m \u001b[49m\u001b[43moutput_file\u001b[49m\u001b[43m)\u001b[49m\n",
      "Cell \u001b[0;32mIn[11], line 20\u001b[0m, in \u001b[0;36mselect_residues_within_distance\u001b[0;34m(interactor, distance, output_file)\u001b[0m\n\u001b[1;32m     18\u001b[0m \u001b[38;5;66;03m# Write the residue positions to the output file (writes to file later specified as .txt)\u001b[39;00m\n\u001b[1;32m     19\u001b[0m \u001b[38;5;28;01mwith\u001b[39;00m \u001b[38;5;28mopen\u001b[39m(output_file, \u001b[38;5;124m\"\u001b[39m\u001b[38;5;124mw\u001b[39m\u001b[38;5;124m\"\u001b[39m) \u001b[38;5;28;01mas\u001b[39;00m f:\n\u001b[0;32m---> 20\u001b[0m     \u001b[38;5;28;01mfor\u001b[39;00m atom \u001b[38;5;129;01min\u001b[39;00m \u001b[43mselected_model\u001b[49m\u001b[38;5;241;43m.\u001b[39;49m\u001b[43mresi\u001b[49m:\n\u001b[1;32m     21\u001b[0m         \u001b[38;5;28mprint\u001b[39m(atom\u001b[38;5;241m.\u001b[39mresi)\n\u001b[1;32m     22\u001b[0m         \u001b[38;5;28;01mif\u001b[39;00m atom\u001b[38;5;241m.\u001b[39mresi:\n",
      "\u001b[0;31mAttributeError\u001b[0m: 'Indexed' object has no attribute 'resi'"
     ]
    }
   ],
   "source": [
    "# PDB file for complexes from AlphaFold\n",
    "pdb_path = \"../data/scan_complex_pdbs/P57086_P28698_scand_complex.pdb\"\n",
    "\n",
    "# Define the chain IDs\n",
    "chain_A = \"A\"\n",
    "chain_B = \"B\"\n",
    "\n",
    "# Extract the unique identifier from the PDB file name to save files with unique names\n",
    "output_file_prefix = os.path.splitext(os.path.basename(pdb_path))[0]\n",
    "\n",
    "# Load and select residues for Chain B\n",
    "load_and_select_chains(pdb_path, chain_A, chain_B, output_file_prefix)"
   ]
  },
  {
   "cell_type": "code",
   "execution_count": 8,
   "metadata": {},
   "outputs": [],
   "source": [
    "#Delete everything and start over.\n",
    "cmd.delete(\"all\")"
   ]
  }
 ],
 "metadata": {
  "kernelspec": {
   "display_name": "pymol",
   "language": "python",
   "name": "python3"
  },
  "language_info": {
   "codemirror_mode": {
    "name": "ipython",
    "version": 3
   },
   "file_extension": ".py",
   "mimetype": "text/x-python",
   "name": "python",
   "nbconvert_exporter": "python",
   "pygments_lexer": "ipython3",
   "version": "3.12.2"
  }
 },
 "nbformat": 4,
 "nbformat_minor": 2
}
